{
 "cells": [
  {
   "cell_type": "markdown",
   "metadata": {},
   "source": [
    "This notebook was inspired by this [LlamaIndex example](https://docs.llamaindex.ai/en/latest/examples/cookbooks/mistralai/).\n",
    "\n",
    "Making some changes to it with the only intention of trying ideas and learning.\n",
    "\n",
    "Notice that I am assuming you have the relevant API_KEYs as environmental variables."
   ]
  },
  {
   "cell_type": "code",
   "execution_count": null,
   "metadata": {},
   "outputs": [],
   "source": [
    "%pip install llama-index-embeddings-mistralai"
   ]
  },
  {
   "cell_type": "code",
   "execution_count": 14,
   "metadata": {},
   "outputs": [],
   "source": [
    "from llama_index.llms.mistralai import MistralAI\n",
    "from llama_index.embeddings.mistralai import MistralAIEmbedding\n",
    "from llama_index.core import Settings\n",
    "import subprocess\n",
    "import nest_asyncio\n",
    "from llama_index.core import (\n",
    "    SimpleDirectoryReader,\n",
    "    VectorStoreIndex,\n",
    "    StorageContext,\n",
    "    load_index_from_storage,\n",
    ")\n",
    "import subprocess\n",
    "import os\n",
    "nest_asyncio.apply()"
   ]
  },
  {
   "cell_type": "markdown",
   "metadata": {},
   "source": [
    "## Setup LLM and Embedding Model¶\n"
   ]
  },
  {
   "cell_type": "code",
   "execution_count": 3,
   "metadata": {},
   "outputs": [],
   "source": [
    "llm = MistralAI(model=\"open-mixtral-8x22b\", temperature=0.1)\n",
    "embed_model = MistralAIEmbedding(model_name=\"mistral-embed\")\n",
    "\n",
    "Settings.llm = llm\n",
    "Settings.embed_model = embed_model"
   ]
  },
  {
   "cell_type": "markdown",
   "metadata": {},
   "source": [
    "## Defining global variables"
   ]
  },
  {
   "cell_type": "code",
   "execution_count": 5,
   "metadata": {},
   "outputs": [],
   "source": [
    "COMPANIES = [\"uber\", \"lyft\"]\n",
    "DATA_DIRS = {}\n",
    "PERSIST_DIRS = {}\n",
    "for c in COMPANIES:\n",
    "    DATA_DIRS[c] = os.path.join(os.environ[\"DATA_DIR\"], f\"{c}\")\n",
    "    PERSIST_DIRS[c] = os.path.join(os.environ[\"PERSIST_DIR\"], f\"{c}\")\n"
   ]
  },
  {
   "cell_type": "markdown",
   "metadata": {},
   "source": [
    "## Download data\n",
    "You can access more files by usinig the next url format\n",
    "\n",
    "https://raw.githubusercontent.com/run-llama/llama_index/main/docs/docs/examples/data/10q/{`COMPANY_NAME`}_10q_{`MONTH`}_{`YEAR`}.pdf'"
   ]
  },
  {
   "cell_type": "code",
   "execution_count": 6,
   "metadata": {},
   "outputs": [],
   "source": [
    "for c in COMPANIES:\n",
    "    if not os.path.exists(DATA_DIRS[c]):\n",
    "        os.mkdir(DATA_DIRS[c])\n",
    "        command = f\"wget 'https://raw.githubusercontent.com/run-llama/llama_index/main/docs/docs/examples/data/10k/{c}_2021.pdf' -O '{DATA_DIRS[c]}/{c}_2021.pdf'\"        \n",
    "        subprocess.run(command, shell=True)"
   ]
  },
  {
   "cell_type": "markdown",
   "metadata": {},
   "source": [
    "# Create index and query engine for each company individually"
   ]
  },
  {
   "cell_type": "code",
   "execution_count": 9,
   "metadata": {},
   "outputs": [],
   "source": [
    "query_engine_dict = {}\n",
    "for c in COMPANIES:\n",
    "    if not os.path.exists(PERSIST_DIRS[c]):\n",
    "        print(\"Creating Index\")\n",
    "        # load the documents and create the index\n",
    "        documents = SimpleDirectoryReader(DATA_DIRS[c]).load_data()\n",
    "        index = VectorStoreIndex.from_documents(documents)\n",
    "        # store it for later\n",
    "        index.storage_context.persist(persist_dir=PERSIST_DIRS[c])\n",
    "    else:\n",
    "        print(\"Loading Index\")\n",
    "        # load the existing index\n",
    "        storage_context = StorageContext.from_defaults(persist_dir=PERSIST_DIRS[c])\n",
    "        index = load_index_from_storage(storage_context)\n",
    "    \n",
    "    query_engine_dict[c] = index.as_query_engine(similarity_top_k=5)\n",
    "    "
   ]
  },
  {
   "cell_type": "code",
   "execution_count": 11,
   "metadata": {},
   "outputs": [
    {
     "name": "stdout",
     "output_type": "stream",
     "text": [
      "Uber's revenue in 2021 was $17,455 million.\n"
     ]
    }
   ],
   "source": [
    "response = query_engine_dict[\"uber\"].query(\"What is the revenue of uber in 2021?\")\n",
    "print(response)"
   ]
  },
  {
   "cell_type": "code",
   "execution_count": 13,
   "metadata": {},
   "outputs": [
    {
     "name": "stdout",
     "output_type": "stream",
     "text": [
      "In 2021, Lyft invested in several areas to advance its mission and maintain its position as a leader in the transportation industry. These investments include:\n",
      "\n",
      "1. Expansion of Light Vehicles and Lyft Autonomous\n",
      "      \n",
      "2. Efficient Operations\n",
      "      \n",
      "3. Brand and Social Responsibility\n",
      "      \n",
      "4. Electric Vehicles\n",
      "      \n",
      "5. Driver Experience\n",
      "      \n",
      "6. Marketplace Technology\n",
      "      \n",
      "7. Mergers and Acquisitions\n",
      "      \n",
      "8. Intellectual Property\n",
      "      \n",
      "9. Trademarks and Service Marks\n"
     ]
    }
   ],
   "source": [
    "response = query_engine_dict[\"lyft\"].query(\"What are lyft investments in 2021? Show output as a list with main topics.\")\n",
    "print(response)"
   ]
  }
 ],
 "metadata": {
  "kernelspec": {
   "display_name": "base",
   "language": "python",
   "name": "python3"
  },
  "language_info": {
   "codemirror_mode": {
    "name": "ipython",
    "version": 3
   },
   "file_extension": ".py",
   "mimetype": "text/x-python",
   "name": "python",
   "nbconvert_exporter": "python",
   "pygments_lexer": "ipython3",
   "version": "3.11.7"
  }
 },
 "nbformat": 4,
 "nbformat_minor": 2
}
