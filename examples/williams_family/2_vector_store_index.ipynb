{
 "cells": [
  {
   "attachments": {},
   "cell_type": "markdown",
   "metadata": {},
   "source": [
    "### What you will find here\n",
    "- Loading a multiple documents\n",
    "- Using the primary prompt templates used in llama-index\n",
    "    + Load an LLM \n",
    "    + `chat` method that takes in a list of messages, to simulate a chat session. \n",
    "- Quick check on limitation about this approach"
   ]
  },
  {
   "cell_type": "code",
   "execution_count": 1,
   "metadata": {},
   "outputs": [],
   "source": [
    "import os\n",
    "from llama_index.core import VectorStoreIndex, SimpleDirectoryReader\n",
    "from llama_index.llms.openai import OpenAI\n",
    "from llama_index.core.memory import ChatMemoryBuffer"
   ]
  },
  {
   "cell_type": "markdown",
   "metadata": {},
   "source": [
    "### Load Multiple Documents"
   ]
  },
  {
   "cell_type": "code",
   "execution_count": 2,
   "metadata": {},
   "outputs": [],
   "source": [
    "reader = SimpleDirectoryReader(\n",
    "    input_dir=os.path.join(os.environ[\"WORKDIR\"], \"/llamaindex-project/data/williams_family/biographies/\")\n",
    ")\n",
    "documents = reader.load_data()\n",
    "index = VectorStoreIndex.from_documents(documents)"
   ]
  },
  {
   "cell_type": "markdown",
   "metadata": {},
   "source": [
    "### Load an LLM"
   ]
  },
  {
   "cell_type": "code",
   "execution_count": 3,
   "metadata": {},
   "outputs": [],
   "source": [
    "llm = OpenAI(model=\"gpt-3.5-turbo\")"
   ]
  },
  {
   "cell_type": "markdown",
   "metadata": {},
   "source": [
    "### Chat Example"
   ]
  },
  {
   "cell_type": "markdown",
   "metadata": {},
   "source": [
    "Since the context retrieved can take up a large amount of the available LLM context, let’s ensure we configure a smaller limit to the chat history!"
   ]
  },
  {
   "cell_type": "code",
   "execution_count": 4,
   "metadata": {},
   "outputs": [],
   "source": [
    "memory = ChatMemoryBuffer.from_defaults(token_limit=3900)"
   ]
  },
  {
   "cell_type": "code",
   "execution_count": 5,
   "metadata": {},
   "outputs": [],
   "source": [
    "CHAT_SYSTEM_CONTENT = \"\"\"\n",
    "    Here are the relevant documents for the context:\n",
    "    {context_str}\n",
    "    ----\n",
    "    Given the context information and not prior knowledge,\n",
    "    answer to the question, as briefly as possible.\n",
    "    Structure your response as a list of facts.\n",
    "\"\"\""
   ]
  },
  {
   "cell_type": "code",
   "execution_count": 8,
   "metadata": {},
   "outputs": [],
   "source": [
    "chat_engine = index.as_chat_engine(\n",
    "    chat_mode=\"condense_plus_context\",\n",
    "    memory=memory,\n",
    "    llm=llm,\n",
    "    context_prompt=CHAT_SYSTEM_CONTENT,\n",
    "    verbose=False,\n",
    ")"
   ]
  },
  {
   "cell_type": "markdown",
   "metadata": {},
   "source": [
    "Now we can ask about any family member since we loaded all the documents and using VectorStoreIndex to retrieve the relevan informaiton."
   ]
  },
  {
   "cell_type": "code",
   "execution_count": 9,
   "metadata": {},
   "outputs": [
    {
     "name": "stdout",
     "output_type": "stream",
     "text": [
      "- Viviana Williams was born on December 11, 1963.\n"
     ]
    }
   ],
   "source": [
    "question = \"When did Marianne Williams born?\"\n",
    "print(chat_engine.chat(question))"
   ]
  },
  {
   "cell_type": "code",
   "execution_count": 24,
   "metadata": {},
   "outputs": [
    {
     "name": "stdout",
     "output_type": "stream",
     "text": [
      "- David Williams was born on May 24, 1988.\n"
     ]
    }
   ],
   "source": [
    "question = \"When did David Williams born?\"\n",
    "print(chat_engine.chat(question))"
   ]
  },
  {
   "cell_type": "markdown",
   "metadata": {},
   "source": [
    "Now the question is. How complicated the questions can be?\n",
    "Can we ask how two individuals are connected in the family?"
   ]
  },
  {
   "cell_type": "markdown",
   "metadata": {},
   "source": [
    "We can get information about first degree relationships without a problem.\n",
    "This is also because that can of information is directly available in the documents."
   ]
  },
  {
   "cell_type": "code",
   "execution_count": 25,
   "metadata": {},
   "outputs": [
    {
     "name": "stdout",
     "output_type": "stream",
     "text": [
      "- Viviana Williams is David Williams' mother.\n",
      "- David Williams is Viviana Williams' son.\n"
     ]
    }
   ],
   "source": [
    "question = \"How David Williams is related to Viviana Williams?\"\n",
    "print(chat_engine.chat(question))"
   ]
  },
  {
   "cell_type": "markdown",
   "metadata": {},
   "source": [
    "Seems that more complex relationships can't be obtained with the current configuration!\n",
    "Below you will see that we can also obtain second degree relationships now."
   ]
  },
  {
   "cell_type": "code",
   "execution_count": 26,
   "metadata": {},
   "outputs": [
    {
     "name": "stdout",
     "output_type": "stream",
     "text": [
      "- Tessa Johnson is David Williams' grandmother.\n",
      "- David Williams is the son of Viviana Williams.\n",
      "- Viviana Williams is the daughter of Immanuel Williams and Tessa Johnson.\n"
     ]
    }
   ],
   "source": [
    "question = \"How is David Williams related to Tessa Johnson?\"\n",
    "print(chat_engine.chat(question))"
   ]
  },
  {
   "cell_type": "code",
   "execution_count": 27,
   "metadata": {},
   "outputs": [
    {
     "name": "stdout",
     "output_type": "stream",
     "text": [
      "- Tessa Johnson is Marianne Williams' great-grandmother.\n",
      "- Marianne Williams is the daughter of Edward Williams.\n",
      "- Edward Williams is the son of Immanuel Williams and Tessa Johnson.\n"
     ]
    }
   ],
   "source": [
    "question = \"How is Marianne Williams related to Tessa Johnson?\"\n",
    "print(chat_engine.chat(question))"
   ]
  },
  {
   "cell_type": "markdown",
   "metadata": {},
   "source": [
    "There is something weird...\n",
    "\n",
    "I think that the order of the questions was the reason why we were able to get more complex relationships.\n",
    "\n",
    "Let's try again but ask the more complex questions first."
   ]
  },
  {
   "cell_type": "code",
   "execution_count": 28,
   "metadata": {},
   "outputs": [],
   "source": [
    "chat_engine.reset()"
   ]
  },
  {
   "cell_type": "code",
   "execution_count": 29,
   "metadata": {},
   "outputs": [
    {
     "name": "stdout",
     "output_type": "stream",
     "text": [
      "1. Tessa Johnson is the wife of Immanuel Williams.\n",
      "2. Immanuel Williams is the father of Edward Williams.\n",
      "3. David Williams is not directly mentioned in the provided context.\n"
     ]
    }
   ],
   "source": [
    "question = \"How is David Williams related to Tessa Johnson?\"\n",
    "print(chat_engine.chat(question))"
   ]
  },
  {
   "cell_type": "code",
   "execution_count": 31,
   "metadata": {},
   "outputs": [
    {
     "name": "stdout",
     "output_type": "stream",
     "text": [
      "1. Marianne Williams is not directly mentioned as a descendant of Tessa Johnson in the provided context.\n"
     ]
    }
   ],
   "source": [
    "question = \"How is Marianne Williams related to Tessa Johnson?\"\n",
    "print(chat_engine.chat(question))"
   ]
  },
  {
   "cell_type": "markdown",
   "metadata": {},
   "source": [
    "Aha!\n",
    "\n",
    "There is a clear hallucination problem now!\n",
    "Order of questions has an important effect on the performance!"
   ]
  },
  {
   "cell_type": "markdown",
   "metadata": {},
   "source": []
  }
 ],
 "metadata": {
  "kernelspec": {
   "display_name": "venv",
   "language": "python",
   "name": "python3"
  },
  "language_info": {
   "codemirror_mode": {
    "name": "ipython",
    "version": 3
   },
   "file_extension": ".py",
   "mimetype": "text/x-python",
   "name": "python",
   "nbconvert_exporter": "python",
   "pygments_lexer": "ipython3",
   "version": "3.11.7"
  },
  "orig_nbformat": 4
 },
 "nbformat": 4,
 "nbformat_minor": 2
}
