{
 "cells": [
  {
   "cell_type": "code",
   "execution_count": 1,
   "metadata": {},
   "outputs": [
    {
     "name": "stderr",
     "output_type": "stream",
     "text": [
      "<jemalloc>: Unsupported system page size\n"
     ]
    }
   ],
   "source": [
    "from bubls.utils.rag_design.rag_building_blocks import RAGBuildingBlocks\n",
    "import logging\n",
    "import sys\n",
    "from metadata import lyft_10k, wiki_public_companies, papers_ridesharing"
   ]
  },
  {
   "cell_type": "code",
   "execution_count": 2,
   "metadata": {},
   "outputs": [],
   "source": [
    "# from llama_index.core import Settings\n",
    "# Settings.llm = OpenAI(temperature=0.2, model=\"gpt-3.5-turbo\")\n",
    "# Settings.embed_model = OpenAIEmbedding(name=\"text-embedding-ada-002\")"
   ]
  },
  {
   "cell_type": "code",
   "execution_count": 2,
   "metadata": {},
   "outputs": [],
   "source": [
    "logging.basicConfig(\n",
    "    stream=sys.stdout,\n",
    "    level=logging.ERROR,\n",
    "    format=\"%(asctime)s - %(levelname)s - %(message)s\",\n",
    ")\n",
    "# logging.getLogger().addHandler(logging.StreamHandler(stream=sys.stdout))"
   ]
  },
  {
   "cell_type": "code",
   "execution_count": 3,
   "metadata": {},
   "outputs": [],
   "source": [
    "components_cfg = {\n",
    "    \"lyft_10k\": lyft_10k,\n",
    "    \"wiki_public_companies\": wiki_public_companies,\n",
    "    \"papers_ridesharing\": papers_ridesharing,\n",
    "}"
   ]
  },
  {
   "cell_type": "code",
   "execution_count": 4,
   "metadata": {},
   "outputs": [
    {
     "name": "stdout",
     "output_type": "stream",
     "text": [
      "Loading data artifacts for lyft_10k\n",
      "Loading LLM eval data for lyft_10k, train\n",
      "Loading LLM eval data for lyft_10k, val\n",
      "Loading LLM eval data for lyft_10k, test\n",
      "Generating Nodes for lyft_10k, train\n",
      "Generating Nodes for lyft_10k, val\n",
      "Generating Nodes for lyft_10k, test\n",
      "Loading QA pairs for lyft_10k, train\n",
      "Loading QA pairs for lyft_10k, val\n",
      "Loading QA pairs for lyft_10k, test\n",
      "Loading engines for lyft_10k\n",
      "Loading Index for lyft_10k, baseline\n",
      "Generating Query Engine for lyft_10k\n",
      "Generating Query Engine Tool for lyft_10k\n",
      "Loading eval data for lyft_10k, train\n",
      "Loading eval data for lyft_10k, val\n",
      "Loading eval data for lyft_10k, test\n",
      "Loading data artifacts for wiki_public_companies\n",
      "Loading LLM eval data for wiki_public_companies, train\n",
      "Loading LLM eval data for wiki_public_companies, val\n",
      "Loading LLM eval data for wiki_public_companies, test\n",
      "Generating Nodes for wiki_public_companies, train\n",
      "Generating Nodes for wiki_public_companies, val\n",
      "Generating Nodes for wiki_public_companies, test\n",
      "Loading QA pairs for wiki_public_companies, train\n",
      "Loading QA pairs for wiki_public_companies, val\n",
      "Loading QA pairs for wiki_public_companies, test\n",
      "Loading engines for wiki_public_companies\n",
      "Loading Index for wiki_public_companies, baseline\n",
      "Generating Query Engine for wiki_public_companies\n",
      "Generating Query Engine Tool for wiki_public_companies\n",
      "Loading eval data for wiki_public_companies, train\n",
      "Loading eval data for wiki_public_companies, val\n",
      "Loading eval data for wiki_public_companies, test\n",
      "Loading data artifacts for papers_ridesharing\n",
      "Loading LLM eval data for papers_ridesharing, train\n",
      "Loading LLM eval data for papers_ridesharing, val\n",
      "Loading LLM eval data for papers_ridesharing, test\n",
      "Generating Nodes for papers_ridesharing, train\n",
      "Generating Nodes for papers_ridesharing, val\n",
      "Generating Nodes for papers_ridesharing, test\n",
      "Loading QA pairs for papers_ridesharing, train\n",
      "Loading QA pairs for papers_ridesharing, val\n",
      "Loading QA pairs for papers_ridesharing, test\n",
      "Loading engines for papers_ridesharing\n",
      "Loading Index for papers_ridesharing, baseline\n",
      "Generating Query Engine for papers_ridesharing\n",
      "Generating Query Engine Tool for papers_ridesharing\n",
      "Loading eval data for papers_ridesharing, train\n",
      "Loading eval data for papers_ridesharing, val\n",
      "Loading eval data for papers_ridesharing, test\n"
     ]
    }
   ],
   "source": [
    "rag = RAGBuildingBlocks(components_cfg)\n",
    "rag.execute()"
   ]
  },
  {
   "cell_type": "markdown",
   "metadata": {},
   "source": [
    "## Fine-tune embeddings"
   ]
  },
  {
   "cell_type": "code",
   "execution_count": 5,
   "metadata": {},
   "outputs": [],
   "source": [
    "from sentence_transformers import (\n",
    "    SentenceTransformer,\n",
    "    losses,\n",
    "    InputExample\n",
    ")\n",
    "from sentence_transformers.evaluation import InformationRetrievalEvaluator\n",
    "from torch.utils.data import DataLoader"
   ]
  },
  {
   "cell_type": "code",
   "execution_count": 12,
   "metadata": {},
   "outputs": [],
   "source": [
    "qa_pairs_training = rag.qa_pairs[\"lyft_10k\"][\"train\"]\n",
    "qa_pairs_val = rag.qa_pairs[\"lyft_10k\"][\"val\"]\n",
    "corpus = rag.get_corpus_from_index(rag.index[\"lyft_10k\"]) "
   ]
  },
  {
   "cell_type": "code",
   "execution_count": 7,
   "metadata": {},
   "outputs": [],
   "source": [
    "training_examples = []\n",
    "for query_id, query in qa_pairs_training.queries.items():\n",
    "    node_id = qa_pairs_training.relevant_docs[query_id][0]\n",
    "    reference = qa_pairs_training.corpus[node_id]\n",
    "    example = InputExample(texts=[query, reference])\n",
    "    training_examples.append(example)\n",
    "\n",
    "loader = DataLoader(training_examples, batch_size=8, shuffle=True)"
   ]
  },
  {
   "cell_type": "code",
   "execution_count": 8,
   "metadata": {},
   "outputs": [],
   "source": [
    "evaluator = InformationRetrievalEvaluator(\n",
    "    qa_pairs_val.queries,\n",
    "    qa_pairs_val.corpus,\n",
    "    qa_pairs_val.relevant_docs\n",
    ")"
   ]
  },
  {
   "cell_type": "code",
   "execution_count": 10,
   "metadata": {},
   "outputs": [],
   "source": [
    "model_id = \"all-MiniLM-L6-v2\"\n",
    "embed_model = SentenceTransformer(model_id)\n",
    "loss = losses.MultipleNegativesRankingLoss(embed_model)"
   ]
  },
  {
   "cell_type": "code",
   "execution_count": 13,
   "metadata": {},
   "outputs": [
    {
     "data": {
      "application/vnd.jupyter.widget-view+json": {
       "model_id": "8c5b74e1bca046459f1f9137a77858c0",
       "version_major": 2,
       "version_minor": 0
      },
      "text/plain": [
       "Epoch:   0%|          | 0/1 [00:00<?, ?it/s]"
      ]
     },
     "metadata": {},
     "output_type": "display_data"
    },
    {
     "data": {
      "application/vnd.jupyter.widget-view+json": {
       "model_id": "9fa495d8cb0b473e9870e3d1109601a5",
       "version_major": 2,
       "version_minor": 0
      },
      "text/plain": [
       "Iteration:   0%|          | 0/16 [00:00<?, ?it/s]"
      ]
     },
     "metadata": {},
     "output_type": "display_data"
    }
   ],
   "source": [
    "embed_model.fit(\n",
    "    train_objectives=[(loader, loss)],\n",
    "    epochs=1,\n",
    "    warmup_steps=1,  # int(len(loader) * epochs * 0.1)  # Default 10000\n",
    "    output_path='fine-tune-embeddings1',\n",
    "    show_progress_bar=True,\n",
    "    evaluator=evaluator, \n",
    "    evaluation_steps=int(len(loader)*0.3),\n",
    ")"
   ]
  },
  {
   "cell_type": "code",
   "execution_count": 13,
   "metadata": {},
   "outputs": [],
   "source": [
    "from bubls.utils.evaluation.from_dataframe import is_hit, reciprocal_ranking"
   ]
  },
  {
   "cell_type": "code",
   "execution_count": 18,
   "metadata": {},
   "outputs": [
    {
     "data": {
      "application/vnd.jupyter.widget-view+json": {
       "model_id": "687340d2fee541a2be1dc05b9bc20129",
       "version_major": 2,
       "version_minor": 0
      },
      "text/plain": [
       "  0%|          | 0/126 [00:00<?, ?it/s]"
      ]
     },
     "metadata": {},
     "output_type": "display_data"
    },
    {
     "name": "stdout",
     "output_type": "stream",
     "text": [
      "is_hit                0.753968\n",
      "reciprocal_ranking    0.718254\n",
      "dtype: float64\n"
     ]
    }
   ],
   "source": [
    "index_tuned = rag.gen_index(\n",
    "    \"lyft_10k\",\n",
    "    \"mini_tuned\",\n",
    "    rag.nodes[\"lyft_10k\"][\"train\"]+rag.nodes[\"lyft_10k\"][\"val\"]+rag.nodes[\"lyft_10k\"][\"test\"], \n",
    "    {\"embed_model\": \"local:fine-tune-embeddings1\"}\n",
    ")\n",
    "tuned_qe = index_tuned.as_query_engine()\n",
    "tuned_eval_data = rag.gen_eval_data(tuned_qe, rag.qa_pairs[\"lyft_10k\"][\"val\"], corpus)\n",
    "\n",
    "tuned_eval_data[\"is_hit\"] =  tuned_eval_data.apply(is_hit, axis=1)\n",
    "tuned_eval_data[\"reciprocal_ranking\"] =  tuned_eval_data.apply(reciprocal_ranking, axis=1)\n",
    "\n",
    "print(tuned_eval_data[[\"is_hit\", \"reciprocal_ranking\"]].mean())"
   ]
  },
  {
   "cell_type": "code",
   "execution_count": 21,
   "metadata": {},
   "outputs": [
    {
     "name": "stdout",
     "output_type": "stream",
     "text": [
      "is_hit                0.730159\n",
      "reciprocal_ranking    0.666667\n",
      "dtype: float64\n"
     ]
    }
   ],
   "source": [
    "index_original = rag.gen_index(\n",
    "    \"lyft_10k\",\n",
    "    \"mini_original\",\n",
    "    rag.nodes[\"lyft_10k\"][\"train\"]+rag.nodes[\"lyft_10k\"][\"val\"]+rag.nodes[\"lyft_10k\"][\"test\"], \n",
    "    {\"embed_model\": \"local:all-MiniLM-L6-v2\"}\n",
    ")\n",
    "original_qe = index_original.as_query_engine()\n",
    "original_eval_data = rag.gen_eval_data(original_qe, rag.qa_pairs[\"lyft_10k\"][\"val\"], corpus)\n",
    "\n",
    "original_eval_data[\"is_hit\"] =  original_eval_data.apply(is_hit, axis=1)\n",
    "original_eval_data[\"reciprocal_ranking\"] =  original_eval_data.apply(reciprocal_ranking, axis=1)\n",
    "\n",
    "print(original_eval_data[[\"is_hit\", \"reciprocal_ranking\"]].mean())"
   ]
  }
 ],
 "metadata": {
  "kernelspec": {
   "display_name": "base",
   "language": "python",
   "name": "python3"
  },
  "language_info": {
   "codemirror_mode": {
    "name": "ipython",
    "version": 3
   },
   "file_extension": ".py",
   "mimetype": "text/x-python",
   "name": "python",
   "nbconvert_exporter": "python",
   "pygments_lexer": "ipython3",
   "version": "3.11.8"
  }
 },
 "nbformat": 4,
 "nbformat_minor": 2
}
