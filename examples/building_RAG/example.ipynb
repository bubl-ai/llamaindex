{
 "cells": [
  {
   "cell_type": "code",
   "execution_count": 1,
   "metadata": {},
   "outputs": [
    {
     "name": "stderr",
     "output_type": "stream",
     "text": [
      "<jemalloc>: Unsupported system page size\n"
     ]
    }
   ],
   "source": [
    "from bubls.utils.rag_design.rag_building_blocks import RAGBuildingBlocks\n",
    "from bubls.utils.evaluation.evaluate_llm import evaluate_llm_performance\n",
    "from bubls.utils.evaluation.evaluate_embeddings import evaluate_retriever\n",
    "from llama_index.core import Settings\n",
    "from llama_index.llms.openai import OpenAI\n",
    "from llama_index.embeddings.openai import OpenAIEmbedding\n",
    "import nest_asyncio\n",
    "nest_asyncio.apply()\n",
    "import logging\n",
    "import sys\n",
    "from metadata import lyft_10k, wiki_public_companies, papers_ridesharing"
   ]
  },
  {
   "cell_type": "code",
   "execution_count": 2,
   "metadata": {},
   "outputs": [],
   "source": [
    "Settings.llm = OpenAI(temperature=0.2, model=\"gpt-3.5-turbo\")\n",
    "Settings.embed_model = OpenAIEmbedding(name=\"text-embedding-ada-002\")"
   ]
  },
  {
   "cell_type": "code",
   "execution_count": 3,
   "metadata": {},
   "outputs": [],
   "source": [
    "logging.basicConfig(\n",
    "    stream=sys.stdout,\n",
    "    level=logging.ERROR,\n",
    "    format=\"%(asctime)s - %(levelname)s - %(message)s\",\n",
    ")"
   ]
  },
  {
   "cell_type": "code",
   "execution_count": 6,
   "metadata": {},
   "outputs": [],
   "source": [
    "components_cfg = {\n",
    "    \"lyft_10k\": lyft_10k,\n",
    "    \"wiki_public_companies\": wiki_public_companies,\n",
    "    \"papers_ridesharing\": papers_ridesharing,\n",
    "}"
   ]
  },
  {
   "cell_type": "code",
   "execution_count": 7,
   "metadata": {},
   "outputs": [
    {
     "name": "stdout",
     "output_type": "stream",
     "text": [
      "Loading data artifacts for lyft_10k\n",
      "Loading LLM eval data for lyft_10k\n",
      "Loading Nodes for lyft_10k\n",
      "Loading nodes lyft_10k\n",
      "Loading QA pairs for lyft_10k\n",
      "Loading engines for lyft_10k\n",
      "Loading Index for lyft_10k\n",
      "Generating Query Engine for lyft_10k\n",
      "Generating Retriever for lyft_10k\n",
      "Generating data artifacts for wiki_public_companies\n",
      "Loading wikipedia data wiki_public_companies\n",
      "Generating LLM Eval Data for wiki_public_companies\n"
     ]
    },
    {
     "name": "stderr",
     "output_type": "stream",
     "text": [
      "/opt/conda/lib/python3.11/site-packages/llama_index/core/evaluation/dataset_generation.py:212: DeprecationWarning: Call to deprecated class DatasetGenerator. (Deprecated in favor of `RagDatasetGenerator` which should be used instead.)\n",
      "  return cls(\n",
      "/opt/conda/lib/python3.11/site-packages/llama_index/core/evaluation/dataset_generation.py:309: DeprecationWarning: Call to deprecated class QueryResponseDataset. (Deprecated in favor of `LabelledRagDataset` which should be used instead.)\n",
      "  return QueryResponseDataset(queries=queries, responses=responses_dict)\n"
     ]
    },
    {
     "name": "stdout",
     "output_type": "stream",
     "text": [
      "Generating Nodes for wiki_public_companies\n",
      "Generating QA Pairs for wiki_public_companies\n"
     ]
    },
    {
     "name": "stderr",
     "output_type": "stream",
     "text": [
      "100%|██████████| 37/37 [00:55<00:00,  1.51s/it]\n"
     ]
    },
    {
     "name": "stdout",
     "output_type": "stream",
     "text": [
      "Generating engines for wiki_public_companies\n",
      "Generating Index for wiki_public_companies\n",
      "Generating Query Engine for wiki_public_companies\n",
      "Generating Retriever for wiki_public_companies\n",
      "Loading data artifacts for papers_ridesharing\n",
      "Loading LLM eval data for papers_ridesharing\n",
      "Loading Nodes for papers_ridesharing\n",
      "Loading nodes papers_ridesharing\n",
      "Loading QA pairs for papers_ridesharing\n",
      "Loading engines for papers_ridesharing\n",
      "Loading Index for papers_ridesharing\n",
      "Generating Query Engine for papers_ridesharing\n",
      "Generating Retriever for papers_ridesharing\n"
     ]
    }
   ],
   "source": [
    "rag = RAGBuildingBlocks(components_cfg)\n",
    "rag.execute()"
   ]
  },
  {
   "cell_type": "code",
   "execution_count": 8,
   "metadata": {},
   "outputs": [
    {
     "data": {
      "application/vnd.jupyter.widget-view+json": {
       "model_id": "4735361cdd0d4a0a9a6ff2c2a43fb75e",
       "version_major": 2,
       "version_minor": 0
      },
      "text/plain": [
       "  0%|          | 0/10 [00:00<?, ?it/s]"
      ]
     },
     "metadata": {},
     "output_type": "display_data"
    },
    {
     "data": {
      "text/plain": [
       "{'response_time': 3.1531354427337646, 'faithfulness': 1.0, 'relevancy': 1.0}"
      ]
     },
     "execution_count": 8,
     "metadata": {},
     "output_type": "execute_result"
    }
   ],
   "source": [
    "evaluate_llm_performance(rag.llm_eval_data[\"papers_ridesharing\"], rag.query_engine[\"papers_ridesharing\"])"
   ]
  },
  {
   "cell_type": "code",
   "execution_count": 12,
   "metadata": {},
   "outputs": [
    {
     "data": {
      "application/vnd.jupyter.widget-view+json": {
       "model_id": "7f19695ed2d8419e92a5689253a11245",
       "version_major": 2,
       "version_minor": 0
      },
      "text/plain": [
       "  0%|          | 0/17 [00:00<?, ?it/s]"
      ]
     },
     "metadata": {},
     "output_type": "display_data"
    },
    {
     "name": "stdout",
     "output_type": "stream",
     "text": [
      "0.9411764705882353 0.7450980392156863\n"
     ]
    }
   ],
   "source": [
    "a=evaluate_retriever(rag.qa_pairs[\"papers_ridesharing\"], rag.retriever[\"papers_ridesharing\"])\n",
    "print(a.is_hit.mean(), a.mrr.mean())"
   ]
  }
 ],
 "metadata": {
  "kernelspec": {
   "display_name": "base",
   "language": "python",
   "name": "python3"
  },
  "language_info": {
   "codemirror_mode": {
    "name": "ipython",
    "version": 3
   },
   "file_extension": ".py",
   "mimetype": "text/x-python",
   "name": "python",
   "nbconvert_exporter": "python",
   "pygments_lexer": "ipython3",
   "version": "3.11.8"
  }
 },
 "nbformat": 4,
 "nbformat_minor": 2
}
