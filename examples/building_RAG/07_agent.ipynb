{
 "cells": [
  {
   "cell_type": "code",
   "execution_count": 1,
   "metadata": {},
   "outputs": [
    {
     "name": "stderr",
     "output_type": "stream",
     "text": [
      "<jemalloc>: Unsupported system page size\n"
     ]
    }
   ],
   "source": [
    "from bubls.utils.rag_design.rag_building_blocks import RAGBuildingBlocks\n",
    "import logging\n",
    "import sys\n",
    "from metadata import lyft_10k, wiki_public_companies, papers_ridesharing"
   ]
  },
  {
   "cell_type": "code",
   "execution_count": 2,
   "metadata": {},
   "outputs": [],
   "source": [
    "# from llama_index.core import Settings\n",
    "# Settings.llm = OpenAI(temperature=0.2, model=\"gpt-3.5-turbo\")\n",
    "# Settings.embed_model = OpenAIEmbedding(name=\"text-embedding-ada-002\")"
   ]
  },
  {
   "cell_type": "code",
   "execution_count": 3,
   "metadata": {},
   "outputs": [],
   "source": [
    "logging.basicConfig(\n",
    "    stream=sys.stdout,\n",
    "    level=logging.ERROR,\n",
    "    format=\"%(asctime)s - %(levelname)s - %(message)s\",\n",
    ")\n",
    "# logging.getLogger().addHandler(logging.StreamHandler(stream=sys.stdout))"
   ]
  },
  {
   "cell_type": "code",
   "execution_count": 4,
   "metadata": {},
   "outputs": [],
   "source": [
    "components_cfg = {\n",
    "    \"lyft_10k\": lyft_10k,\n",
    "    \"wiki_public_companies\": wiki_public_companies,\n",
    "    \"papers_ridesharing\": papers_ridesharing,\n",
    "}"
   ]
  },
  {
   "cell_type": "code",
   "execution_count": 5,
   "metadata": {},
   "outputs": [
    {
     "name": "stdout",
     "output_type": "stream",
     "text": [
      "Loading data artifacts for lyft_10k\n",
      "Loading LLM eval data for lyft_10k, train\n",
      "Loading LLM eval data for lyft_10k, val\n",
      "Loading LLM eval data for lyft_10k, test\n",
      "Generating Nodes for lyft_10k, train\n",
      "Generating Nodes for lyft_10k, val\n",
      "Generating Nodes for lyft_10k, test\n",
      "Loading QA pairs for lyft_10k, train\n",
      "Loading QA pairs for lyft_10k, val\n",
      "Loading QA pairs for lyft_10k, test\n",
      "Loading engines for lyft_10k\n",
      "Loading Index for lyft_10k, baseline\n",
      "Generating Query Engine for lyft_10k\n",
      "Generating Query Engine Tool for lyft_10k\n",
      "Loading eval data for lyft_10k, train\n",
      "Loading eval data for lyft_10k, val\n",
      "Loading eval data for lyft_10k, test\n",
      "Loading data artifacts for wiki_public_companies\n",
      "Loading LLM eval data for wiki_public_companies, train\n",
      "Loading LLM eval data for wiki_public_companies, val\n",
      "Loading LLM eval data for wiki_public_companies, test\n",
      "Generating Nodes for wiki_public_companies, train\n",
      "Generating Nodes for wiki_public_companies, val\n",
      "Generating Nodes for wiki_public_companies, test\n",
      "Loading QA pairs for wiki_public_companies, train\n",
      "Loading QA pairs for wiki_public_companies, val\n",
      "Loading QA pairs for wiki_public_companies, test\n",
      "Loading engines for wiki_public_companies\n",
      "Loading Index for wiki_public_companies, baseline\n",
      "Generating Query Engine for wiki_public_companies\n",
      "Generating Query Engine Tool for wiki_public_companies\n",
      "Loading eval data for wiki_public_companies, train\n",
      "Loading eval data for wiki_public_companies, val\n",
      "Loading eval data for wiki_public_companies, test\n",
      "Loading data artifacts for papers_ridesharing\n",
      "Loading LLM eval data for papers_ridesharing, train\n",
      "Loading LLM eval data for papers_ridesharing, val\n",
      "Loading LLM eval data for papers_ridesharing, test\n",
      "Generating Nodes for papers_ridesharing, train\n",
      "Generating Nodes for papers_ridesharing, val\n",
      "Generating Nodes for papers_ridesharing, test\n",
      "Loading QA pairs for papers_ridesharing, train\n",
      "Loading QA pairs for papers_ridesharing, val\n",
      "Loading QA pairs for papers_ridesharing, test\n",
      "Loading engines for papers_ridesharing\n",
      "Loading Index for papers_ridesharing, baseline\n",
      "Generating Query Engine for papers_ridesharing\n",
      "Generating Query Engine Tool for papers_ridesharing\n",
      "Loading eval data for papers_ridesharing, train\n",
      "Loading eval data for papers_ridesharing, val\n",
      "Loading eval data for papers_ridesharing, test\n"
     ]
    }
   ],
   "source": [
    "rag = RAGBuildingBlocks(components_cfg)\n",
    "rag.execute()"
   ]
  },
  {
   "cell_type": "markdown",
   "metadata": {},
   "source": [
    "## Agent"
   ]
  },
  {
   "cell_type": "code",
   "execution_count": 5,
   "metadata": {},
   "outputs": [],
   "source": [
    "from bubls.utils.agents.finance_tools import FinanceTools\n",
    "from llama_index.core.agent import ReActAgent\n",
    "from llama_index.core.agent import FunctionCallingAgentWorker, AgentRunner\n",
    "from llama_index.packs.agents_coa import CoAAgentWorker\n",
    "from llama_index.agent.openai import OpenAIAgent\n",
    "\n",
    "finance_tool = FinanceTools()\n",
    "finance_tools_list = finance_tool.to_tool_list()\n",
    "agent = OpenAIAgent.from_tools(\n",
    "    finance_tools_list + rag.query_engine_tools,\n",
    "    # llm=OpenAI(model=\"gpt-4\"),\n",
    "    verbose=True\n",
    ")\n",
    "# agent = AgentRunner(agent)\n",
    "\n",
    "# response = agent.chat(\"\"\"\n",
    "#     Without using previous knowledge and only the toold provided.\n",
    "#     Tell me the nmext information about Nvidia:\n",
    "#     - Who have been the CEOs of Nvidia.\n",
    "#     - Plot the open and close prices of Nvidia for the last 3 months.\n",
    "#     - Stock information of the last 2 days.             \n",
    "# \"\"\")\n",
    "response = agent.chat(\"\"\"\n",
    "    Can you give me the latest Nvidia news for the last month.             \n",
    "\"\"\")\n",
    "print(response)"
   ]
  },
  {
   "cell_type": "code",
   "execution_count": null,
   "metadata": {},
   "outputs": [],
   "source": []
  }
 ],
 "metadata": {
  "kernelspec": {
   "display_name": "base",
   "language": "python",
   "name": "python3"
  },
  "language_info": {
   "codemirror_mode": {
    "name": "ipython",
    "version": 3
   },
   "file_extension": ".py",
   "mimetype": "text/x-python",
   "name": "python",
   "nbconvert_exporter": "python",
   "pygments_lexer": "ipython3",
   "version": "3.11.8"
  }
 },
 "nbformat": 4,
 "nbformat_minor": 2
}
