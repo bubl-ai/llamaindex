{
 "cells": [
  {
   "cell_type": "code",
   "execution_count": 1,
   "metadata": {},
   "outputs": [
    {
     "name": "stderr",
     "output_type": "stream",
     "text": [
      "<jemalloc>: Unsupported system page size\n"
     ]
    }
   ],
   "source": [
    "from bubls.utils.rag_design.rag_building_blocks import RAGBuildingBlocks\n",
    "import logging\n",
    "import sys\n",
    "from metadata import lyft_10k, wiki_public_companies, papers_ridesharing"
   ]
  },
  {
   "cell_type": "code",
   "execution_count": 2,
   "metadata": {},
   "outputs": [],
   "source": [
    "# from llama_index.core import Settings\n",
    "# Settings.llm = OpenAI(temperature=0.2, model=\"gpt-3.5-turbo\")\n",
    "# Settings.embed_model = OpenAIEmbedding(name=\"text-embedding-ada-002\")"
   ]
  },
  {
   "cell_type": "code",
   "execution_count": 3,
   "metadata": {},
   "outputs": [],
   "source": [
    "logging.basicConfig(\n",
    "    stream=sys.stdout,\n",
    "    level=logging.ERROR,\n",
    "    format=\"%(asctime)s - %(levelname)s - %(message)s\",\n",
    ")\n",
    "# logging.getLogger().addHandler(logging.StreamHandler(stream=sys.stdout))"
   ]
  },
  {
   "cell_type": "code",
   "execution_count": 4,
   "metadata": {},
   "outputs": [],
   "source": [
    "components_cfg = {\n",
    "    \"lyft_10k\": lyft_10k,\n",
    "    \"wiki_public_companies\": wiki_public_companies,\n",
    "    \"papers_ridesharing\": papers_ridesharing,\n",
    "}"
   ]
  },
  {
   "cell_type": "code",
   "execution_count": 5,
   "metadata": {},
   "outputs": [
    {
     "name": "stdout",
     "output_type": "stream",
     "text": [
      "Loading data artifacts for lyft_10k\n",
      "Loading LLM eval data for lyft_10k, train\n",
      "Loading LLM eval data for lyft_10k, val\n",
      "Loading LLM eval data for lyft_10k, test\n",
      "Generating Nodes for lyft_10k, train\n",
      "Generating Nodes for lyft_10k, val\n",
      "Generating Nodes for lyft_10k, test\n",
      "Loading QA pairs for lyft_10k, train\n",
      "Loading QA pairs for lyft_10k, val\n",
      "Loading QA pairs for lyft_10k, test\n",
      "Loading engines for lyft_10k\n",
      "Loading Index for lyft_10k, baseline\n",
      "Generating Query Engine for lyft_10k\n",
      "Generating Query Engine Tool for lyft_10k\n",
      "Loading eval data for lyft_10k, train\n",
      "Loading eval data for lyft_10k, val\n",
      "Loading eval data for lyft_10k, test\n",
      "Loading data artifacts for wiki_public_companies\n",
      "Loading LLM eval data for wiki_public_companies, train\n",
      "Loading LLM eval data for wiki_public_companies, val\n",
      "Loading LLM eval data for wiki_public_companies, test\n",
      "Generating Nodes for wiki_public_companies, train\n",
      "Generating Nodes for wiki_public_companies, val\n",
      "Generating Nodes for wiki_public_companies, test\n",
      "Loading QA pairs for wiki_public_companies, train\n",
      "Loading QA pairs for wiki_public_companies, val\n",
      "Loading QA pairs for wiki_public_companies, test\n",
      "Loading engines for wiki_public_companies\n",
      "Loading Index for wiki_public_companies, baseline\n",
      "Generating Query Engine for wiki_public_companies\n",
      "Generating Query Engine Tool for wiki_public_companies\n",
      "Loading eval data for wiki_public_companies, train\n",
      "Loading eval data for wiki_public_companies, val\n",
      "Loading eval data for wiki_public_companies, test\n",
      "Loading data artifacts for papers_ridesharing\n",
      "Loading LLM eval data for papers_ridesharing, train\n",
      "Loading LLM eval data for papers_ridesharing, val\n",
      "Loading LLM eval data for papers_ridesharing, test\n",
      "Generating Nodes for papers_ridesharing, train\n",
      "Generating Nodes for papers_ridesharing, val\n",
      "Generating Nodes for papers_ridesharing, test\n",
      "Loading QA pairs for papers_ridesharing, train\n",
      "Loading QA pairs for papers_ridesharing, val\n",
      "Loading QA pairs for papers_ridesharing, test\n",
      "Loading engines for papers_ridesharing\n",
      "Loading Index for papers_ridesharing, baseline\n",
      "Generating Query Engine for papers_ridesharing\n",
      "Generating Query Engine Tool for papers_ridesharing\n",
      "Loading eval data for papers_ridesharing, train\n",
      "Loading eval data for papers_ridesharing, val\n",
      "Loading eval data for papers_ridesharing, test\n"
     ]
    }
   ],
   "source": [
    "rag = RAGBuildingBlocks(components_cfg)\n",
    "rag.execute()"
   ]
  },
  {
   "cell_type": "markdown",
   "metadata": {},
   "source": [
    "## Fine-tune embeddings"
   ]
  },
  {
   "cell_type": "code",
   "execution_count": 9,
   "metadata": {},
   "outputs": [],
   "source": [
    "from llama_index.finetuning import SentenceTransformersFinetuneEngine"
   ]
  },
  {
   "cell_type": "code",
   "execution_count": 10,
   "metadata": {},
   "outputs": [],
   "source": [
    "qa_pairs_training = rag.qa_pairs[\"lyft_10k\"][\"train\"]\n",
    "qa_pairs_val = rag.qa_pairs[\"lyft_10k\"][\"val\"]\n",
    "corpus = rag.get_corpus_from_index(rag.index[\"lyft_10k\"]) "
   ]
  },
  {
   "cell_type": "code",
   "execution_count": 11,
   "metadata": {},
   "outputs": [
    {
     "name": "stderr",
     "output_type": "stream",
     "text": [
      "/opt/conda/lib/python3.11/site-packages/huggingface_hub/file_download.py:1132: FutureWarning: `resume_download` is deprecated and will be removed in version 1.0.0. Downloads always resume when possible. If you want to force a new download, use `force_download=True`.\n",
      "  warnings.warn(\n"
     ]
    },
    {
     "data": {
      "application/vnd.jupyter.widget-view+json": {
       "model_id": "8b3c02188af240f891940c8890f8a603",
       "version_major": 2,
       "version_minor": 0
      },
      "text/plain": [
       "Epoch:   0%|          | 0/2 [00:00<?, ?it/s]"
      ]
     },
     "metadata": {},
     "output_type": "display_data"
    },
    {
     "data": {
      "application/vnd.jupyter.widget-view+json": {
       "model_id": "a3e5843c39524167ab6055129ec75a15",
       "version_major": 2,
       "version_minor": 0
      },
      "text/plain": [
       "Iteration:   0%|          | 0/13 [00:00<?, ?it/s]"
      ]
     },
     "metadata": {},
     "output_type": "display_data"
    },
    {
     "data": {
      "application/vnd.jupyter.widget-view+json": {
       "model_id": "1fcfa5ee469248b5a47f1125675bcf93",
       "version_major": 2,
       "version_minor": 0
      },
      "text/plain": [
       "Iteration:   0%|          | 0/13 [00:00<?, ?it/s]"
      ]
     },
     "metadata": {},
     "output_type": "display_data"
    }
   ],
   "source": [
    "model_id = \"all-MiniLM-L6-v2\"\n",
    "\n",
    "finetune_engine = SentenceTransformersFinetuneEngine(\n",
    "    qa_pairs_training,\n",
    "    model_id=model_id,\n",
    "    model_output_path=\"fine-tune-embeddings2\",\n",
    "    val_dataset=qa_pairs_val,\n",
    ")\n",
    "finetune_engine.finetune()\n",
    "embed_model = finetune_engine.get_finetuned_model()"
   ]
  },
  {
   "cell_type": "code",
   "execution_count": 12,
   "metadata": {},
   "outputs": [],
   "source": [
    "from bubls.utils.evaluation.from_dataframe import is_hit, reciprocal_ranking"
   ]
  },
  {
   "cell_type": "code",
   "execution_count": 14,
   "metadata": {},
   "outputs": [
    {
     "name": "stdout",
     "output_type": "stream",
     "text": [
      "Generating Index for lyft_10k\n"
     ]
    },
    {
     "data": {
      "application/vnd.jupyter.widget-view+json": {
       "model_id": "5b3bb966c64942c98aeb114ff9bd2f63",
       "version_major": 2,
       "version_minor": 0
      },
      "text/plain": [
       "  0%|          | 0/126 [00:00<?, ?it/s]"
      ]
     },
     "metadata": {},
     "output_type": "display_data"
    },
    {
     "name": "stdout",
     "output_type": "stream",
     "text": [
      "is_hit                0.769841\n",
      "reciprocal_ranking    0.714286\n",
      "dtype: float64\n"
     ]
    }
   ],
   "source": [
    "index_tuned = rag.gen_index(\n",
    "    \"lyft_10k\",\n",
    "    \"mini_tuned2\",\n",
    "    rag.nodes[\"lyft_10k\"][\"train\"]+rag.nodes[\"lyft_10k\"][\"val\"]+rag.nodes[\"lyft_10k\"][\"test\"], \n",
    "    {\"embed_model\": \"local:fine-tune-embeddings2\"}\n",
    ")\n",
    "tuned_qe = index_tuned.as_query_engine()\n",
    "tuned_eval_data = rag.gen_eval_data(tuned_qe, rag.qa_pairs[\"lyft_10k\"][\"val\"], corpus)\n",
    "\n",
    "tuned_eval_data[\"is_hit\"] =  tuned_eval_data.apply(is_hit, axis=1)\n",
    "tuned_eval_data[\"reciprocal_ranking\"] =  tuned_eval_data.apply(reciprocal_ranking, axis=1)\n",
    "\n",
    "print(tuned_eval_data[[\"is_hit\", \"reciprocal_ranking\"]].mean())"
   ]
  },
  {
   "cell_type": "code",
   "execution_count": 21,
   "metadata": {},
   "outputs": [
    {
     "name": "stdout",
     "output_type": "stream",
     "text": [
      "is_hit                0.730159\n",
      "reciprocal_ranking    0.666667\n",
      "dtype: float64\n"
     ]
    }
   ],
   "source": [
    "index_original = rag.gen_index(\n",
    "    \"lyft_10k\",\n",
    "    \"mini_original2\",\n",
    "    rag.nodes[\"lyft_10k\"][\"train\"]+rag.nodes[\"lyft_10k\"][\"val\"]+rag.nodes[\"lyft_10k\"][\"test\"], \n",
    "    {\"embed_model\": \"local:all-MiniLM-L6-v2\"}\n",
    ")\n",
    "original_qe = index_original.as_query_engine()\n",
    "original_eval_data = rag.gen_eval_data(original_qe, rag.qa_pairs[\"lyft_10k\"][\"val\"], corpus)\n",
    "\n",
    "original_eval_data[\"is_hit\"] =  original_eval_data.apply(is_hit, axis=1)\n",
    "original_eval_data[\"reciprocal_ranking\"] =  original_eval_data.apply(reciprocal_ranking, axis=1)\n",
    "\n",
    "print(original_eval_data[[\"is_hit\", \"reciprocal_ranking\"]].mean())"
   ]
  }
 ],
 "metadata": {
  "kernelspec": {
   "display_name": "base",
   "language": "python",
   "name": "python3"
  },
  "language_info": {
   "codemirror_mode": {
    "name": "ipython",
    "version": 3
   },
   "file_extension": ".py",
   "mimetype": "text/x-python",
   "name": "python",
   "nbconvert_exporter": "python",
   "pygments_lexer": "ipython3",
   "version": "3.11.8"
  }
 },
 "nbformat": 4,
 "nbformat_minor": 2
}
