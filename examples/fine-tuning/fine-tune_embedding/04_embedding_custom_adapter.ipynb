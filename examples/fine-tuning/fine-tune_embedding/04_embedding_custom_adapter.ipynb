{
 "cells": [
  {
   "cell_type": "markdown",
   "metadata": {},
   "source": [
    "This notebook was inpired by [this LlamaIndex example](https://docs.llamaindex.ai/en/stable/examples/finetuning/embeddings/finetune_embedding_adapter/)\n",
    "\n",
    "Making some changes to it with the only intention of trying ideas and learning.\n",
    "\n",
    "Notice that I am assuming you have the relevant API_KEYs as environmental variables."
   ]
  },
  {
   "cell_type": "code",
   "execution_count": 12,
   "metadata": {},
   "outputs": [],
   "source": [
    "%pip install llama-index-finetuning\n",
    "%pip install llama-index-embeddings-openai\n",
    "%pip install llama-index-embeddings-adapter\n",
    "%pip install llama-index-embeddings-huggingface"
   ]
  },
  {
   "cell_type": "code",
   "execution_count": 1,
   "metadata": {},
   "outputs": [
    {
     "name": "stderr",
     "output_type": "stream",
     "text": [
      "<jemalloc>: Unsupported system page size\n"
     ]
    }
   ],
   "source": [
    "from bubls.utils.data.download import download_file_from_url\n",
    "from bubls.utils.data.load import load_corpus\n",
    "from bubls.utils.evaluation.evaluate_embeddings import (\n",
    "    evaluate_embed_model, sentence_transformer_ir_evaluator\n",
    ")\n",
    "from bubls.utils.custom_models.embedding_adapter import CustomNN\n",
    "from llama_index.core.evaluation import EmbeddingQAFinetuneDataset\n",
    "from llama_index.finetuning import generate_qa_embedding_pairs\n",
    "from llama_index.llms.openai import OpenAI\n",
    "from llama_index.finetuning import EmbeddingAdapterFinetuneEngine\n",
    "from llama_index.core.embeddings import resolve_embed_model\n",
    "import torch\n",
    "import os\n",
    "\n",
    "# from llama_index.finetuning import SentenceTransformersFinetuneEngine\n",
    "from llama_index.embeddings.openai import OpenAIEmbedding\n",
    "from llama_index.embeddings.adapter.utils import TwoLayerNN\n",
    "from llama_index.embeddings.adapter import LinearAdapterEmbeddingModel"
   ]
  },
  {
   "cell_type": "markdown",
   "metadata": {},
   "source": [
    "## Defining Global Variables"
   ]
  },
  {
   "cell_type": "code",
   "execution_count": 2,
   "metadata": {},
   "outputs": [],
   "source": [
    "METADATA = {\n",
    "    \"train\": {\n",
    "        \"lyft_10k\": {\n",
    "            \"source_url\": \"https://raw.githubusercontent.com/run-llama/llama_index/main/docs/docs/examples/data/10k/lyft_2021.pdf\",\n",
    "            \"file_name\": \"lyft_10k_2021.pdf\",\n",
    "            \"save_data_to\": os.path.join(os.environ[\"DATA_DIR\"], \"lyft_10k\"),\n",
    "        }\n",
    "    },\n",
    "    \"val\": {\n",
    "        \"uber_10k\": {\n",
    "            \"source_url\": \"https://raw.githubusercontent.com/run-llama/llama_index/main/docs/docs/examples/data/10k/uber_2021.pdf\",\n",
    "            \"file_name\": \"uber_10k_2021.pdf\",\n",
    "            \"save_data_to\": os.path.join(os.environ[\"DATA_DIR\"], \"uber_10k\"),\n",
    "        }\n",
    "    }\n",
    "}\n",
    "\n",
    "PERSIST_FINETUNE_DATA_TO = os.path.join(os.environ[\"PERSIST_DIR\"], \"eg1_finetune_data\")"
   ]
  },
  {
   "cell_type": "markdown",
   "metadata": {},
   "source": [
    "## Ingest Data\n",
    "- Download Information\n",
    "- Split train and validation data\n",
    "- Load corpus\n",
    "- Generate QA embeddings"
   ]
  },
  {
   "cell_type": "code",
   "execution_count": 3,
   "metadata": {},
   "outputs": [
    {
     "name": "stdout",
     "output_type": "stream",
     "text": [
      "Loading data with QA embedding pairs\n",
      "Loading data with QA embedding pairs\n"
     ]
    }
   ],
   "source": [
    "data = {}\n",
    "for split in METADATA:\n",
    "    files = []\n",
    "    for k, md in METADATA[split].items():\n",
    "        files.append(\n",
    "            download_file_from_url(md[\"source_url\"], md[\"file_name\"], md[\"save_data_to\"])\n",
    "        )\n",
    "    data_path = os.path.join(PERSIST_FINETUNE_DATA_TO, f\"{split}_data.json\")\n",
    "    if not os.path.exists(data_path):\n",
    "        if not os.path.exists(PERSIST_FINETUNE_DATA_TO):\n",
    "            os.makedirs(PERSIST_FINETUNE_DATA_TO)\n",
    "        print(\"Generating data with QA embedding pairs\")\n",
    "        # For every node we have id, embedding placeholder, metadata, text, relationships, etc.\n",
    "        nodes = load_corpus(files, pct_sample = 0.2)\n",
    "        data[split] = generate_qa_embedding_pairs(\n",
    "            llm=OpenAI(model=\"gpt-3.5-turbo\"), nodes=nodes\n",
    "        )\n",
    "        data[split].save_json(data_path)\n",
    "    else:\n",
    "        print(\"Loading data with QA embedding pairs\")\n",
    "        data[split] = EmbeddingQAFinetuneDataset.from_json(data_path)\n",
    "        \n"
   ]
  },
  {
   "cell_type": "markdown",
   "metadata": {},
   "source": [
    "## Define Embedding model"
   ]
  },
  {
   "cell_type": "code",
   "execution_count": 4,
   "metadata": {},
   "outputs": [],
   "source": [
    "embedding_model = OpenAIEmbedding()\n",
    "# embedding_model = resolve_embed_model(\"local:BAAI/bge-small-en\")"
   ]
  },
  {
   "cell_type": "markdown",
   "metadata": {},
   "source": [
    "## Define a custom Adapter"
   ]
  },
  {
   "cell_type": "code",
   "execution_count": 5,
   "metadata": {},
   "outputs": [],
   "source": [
    "adapter_model = CustomNN(\n",
    "    [1536, 1024, 512, 1024, 1536],  # This model allows for any number of hidden layers\n",
    "    bias=True,\n",
    "    add_residual=True,\n",
    ")"
   ]
  },
  {
   "cell_type": "markdown",
   "metadata": {},
   "source": [
    "## Run Fine-tuning"
   ]
  },
  {
   "cell_type": "code",
   "execution_count": 6,
   "metadata": {},
   "outputs": [
    {
     "data": {
      "application/vnd.jupyter.widget-view+json": {
       "model_id": "eb8946c99b56484fbfaff6e00a8b334d",
       "version_major": 2,
       "version_minor": 0
      },
      "text/plain": [
       "Epoch:   0%|          | 0/4 [00:00<?, ?it/s]"
      ]
     },
     "metadata": {},
     "output_type": "display_data"
    },
    {
     "data": {
      "application/vnd.jupyter.widget-view+json": {
       "model_id": "e183802fba604a2eba84fafcef81d13e",
       "version_major": 2,
       "version_minor": 0
      },
      "text/plain": [
       "Iteration:   0%|          | 0/31 [00:00<?, ?it/s]"
      ]
     },
     "metadata": {},
     "output_type": "display_data"
    },
    {
     "data": {
      "application/vnd.jupyter.widget-view+json": {
       "model_id": "b3daf763b571456a9c2d7d32a2b9e4cc",
       "version_major": 2,
       "version_minor": 0
      },
      "text/plain": [
       "Iteration:   0%|          | 0/31 [00:00<?, ?it/s]"
      ]
     },
     "metadata": {},
     "output_type": "display_data"
    },
    {
     "data": {
      "application/vnd.jupyter.widget-view+json": {
       "model_id": "54a7560180f14af4926a1c670faaafb9",
       "version_major": 2,
       "version_minor": 0
      },
      "text/plain": [
       "Iteration:   0%|          | 0/31 [00:00<?, ?it/s]"
      ]
     },
     "metadata": {},
     "output_type": "display_data"
    },
    {
     "data": {
      "application/vnd.jupyter.widget-view+json": {
       "model_id": "0fbd145cbe1545d396e02a2765e2a6dd",
       "version_major": 2,
       "version_minor": 0
      },
      "text/plain": [
       "Iteration:   0%|          | 0/31 [00:00<?, ?it/s]"
      ]
     },
     "metadata": {},
     "output_type": "display_data"
    }
   ],
   "source": [
    "finetune_engine = EmbeddingAdapterFinetuneEngine(\n",
    "    data[\"train\"],\n",
    "    embedding_model,\n",
    "    model_output_path=\"custom_adapter_test1\",\n",
    "    model_checkpoint_path=\"custom_adapter_ck1\",\n",
    "    adapter_model=adapter_model,\n",
    "    batch_size=4,\n",
    "    epochs=4,\n",
    "    verbose=False,\n",
    ")\n",
    "\n",
    "finetune_engine.finetune()\n",
    "embed_model = finetune_engine.get_finetuned_model(adapter_cls=CustomNN)"
   ]
  },
  {
   "cell_type": "markdown",
   "metadata": {},
   "source": [
    "## Evalute and Compare"
   ]
  },
  {
   "cell_type": "markdown",
   "metadata": {},
   "source": [
    "### OpenAI, no fine-tuning"
   ]
  },
  {
   "cell_type": "code",
   "execution_count": 32,
   "metadata": {},
   "outputs": [
    {
     "data": {
      "text/plain": [
       "0.9142857142857143"
      ]
     },
     "execution_count": 32,
     "metadata": {},
     "output_type": "execute_result"
    }
   ],
   "source": [
    "openai_embedding = OpenAIEmbedding()\n",
    "ada_val_results = evaluate_embed_model(data[\"val\"], openai_embedding)\n",
    "ada_val_results[\"is_hit\"].mean()"
   ]
  },
  {
   "cell_type": "markdown",
   "metadata": {},
   "source": [
    "### Fine-tuned model"
   ]
  },
  {
   "cell_type": "code",
   "execution_count": 8,
   "metadata": {},
   "outputs": [
    {
     "data": {
      "text/plain": [
       "0.9558981757857143"
      ]
     },
     "execution_count": 8,
     "metadata": {},
     "output_type": "execute_result"
    }
   ],
   "source": [
    "fine_tuned_val_results = evaluate_embed_model(data[\"val\"], embed_model)\n",
    "fine_tuned_val_results[\"is_hit\"].mean()"
   ]
  }
 ],
 "metadata": {
  "kernelspec": {
   "display_name": "base",
   "language": "python",
   "name": "python3"
  },
  "language_info": {
   "codemirror_mode": {
    "name": "ipython",
    "version": 3
   },
   "file_extension": ".py",
   "mimetype": "text/x-python",
   "name": "python",
   "nbconvert_exporter": "python",
   "pygments_lexer": "ipython3",
   "version": "3.11.7"
  }
 },
 "nbformat": 4,
 "nbformat_minor": 2
}
