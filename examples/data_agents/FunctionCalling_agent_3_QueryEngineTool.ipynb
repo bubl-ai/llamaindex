{
 "cells": [
  {
   "cell_type": "markdown",
   "metadata": {},
   "source": [
    "This notebook was inpired by this LlamaIndex notebook:\n",
    "\n",
    "https://colab.research.google.com/drive/1XYNaGvEdyKVbs4g_Maffyq08DUArcW8H?usp=sharing#scrollTo=fQW2ccGlLrg7\n",
    "\n",
    "Making some changes to it with the only intention of trying ideas and learning."
   ]
  },
  {
   "cell_type": "markdown",
   "metadata": {},
   "source": [
    "Notice that I am assuming you have the relevant API_KEYs as environmental variables."
   ]
  },
  {
   "cell_type": "code",
   "execution_count": 2,
   "metadata": {},
   "outputs": [],
   "source": [
    "from llama_index.core import (\n",
    "    SimpleDirectoryReader,\n",
    "    VectorStoreIndex,\n",
    "    StorageContext,\n",
    "    load_index_from_storage,\n",
    ")\n",
    "from llama_index.core.agent import FunctionCallingAgentWorker\n",
    "from llama_index.core.agent import AgentRunner\n",
    "from llama_index.llms.openai import OpenAI\n",
    "from llama_index.core.tools import QueryEngineTool, ToolMetadata\n",
    "import os\n",
    "import subprocess"
   ]
  },
  {
   "cell_type": "markdown",
   "metadata": {},
   "source": [
    "## Defining global variables"
   ]
  },
  {
   "cell_type": "code",
   "execution_count": 3,
   "metadata": {},
   "outputs": [],
   "source": [
    "DATA_DIRS = {}\n",
    "DATA_DIRS[\"lyft\"] = os.path.join(os.environ[\"DATA_DIR\"], \"lyft\")\n",
    "DATA_DIRS[\"uber\"] = os.path.join(os.environ[\"DATA_DIR\"], \"uber\")\n",
    "PERSIST_DIRS = {}\n",
    "PERSIST_DIRS[\"lyft\"] = os.path.join(os.environ[\"PERSIST_DIR\"], \"lyft\")\n",
    "PERSIST_DIRS[\"uber\"] = os.path.join(os.environ[\"PERSIST_DIR\"], \"uber\")"
   ]
  },
  {
   "cell_type": "markdown",
   "metadata": {},
   "source": [
    "## Download data"
   ]
  },
  {
   "cell_type": "code",
   "execution_count": 4,
   "metadata": {},
   "outputs": [],
   "source": [
    "for c in [\"uber\", \"lyft\"]:\n",
    "    if not os.path.exists(DATA_DIRS[c]):\n",
    "        os.mkdir(DATA_DIRS[c])\n",
    "        command = f\"wget 'https://raw.githubusercontent.com/run-llama/llama_index/main/docs/docs/examples/data/10k/{c}_2021.pdf' -O '{DATA_DIRS[c]}/{c}_2021.pdf'\"        \n",
    "        subprocess.run(command, shell=True)"
   ]
  },
  {
   "cell_type": "markdown",
   "metadata": {},
   "source": [
    "# Create index and query engine for each company individually"
   ]
  },
  {
   "cell_type": "code",
   "execution_count": 5,
   "metadata": {},
   "outputs": [
    {
     "name": "stdout",
     "output_type": "stream",
     "text": [
      "Loading Index\n",
      "Loading Index\n"
     ]
    }
   ],
   "source": [
    "query_engine_dict = {}\n",
    "for c in [\"uber\", \"lyft\"]:\n",
    "    if not os.path.exists(PERSIST_DIRS[c]):\n",
    "        print(\"Creating Index\")\n",
    "        # load the documents and create the index\n",
    "        documents = SimpleDirectoryReader(DATA_DIRS[c]).load_data()\n",
    "        index = VectorStoreIndex.from_documents(documents)\n",
    "        # store it for later\n",
    "        index.storage_context.persist(persist_dir=PERSIST_DIRS[c])\n",
    "    else:\n",
    "        print(\"Loading Index\")\n",
    "        # load the existing index\n",
    "        storage_context = StorageContext.from_defaults(persist_dir=PERSIST_DIRS[c])\n",
    "        index = load_index_from_storage(storage_context)\n",
    "    \n",
    "    query_engine_dict[c] = index.as_query_engine(similarity_top_k=3)\n",
    "    "
   ]
  },
  {
   "cell_type": "markdown",
   "metadata": {},
   "source": [
    "## Define tool"
   ]
  },
  {
   "cell_type": "code",
   "execution_count": 6,
   "metadata": {},
   "outputs": [],
   "source": [
    "query_engine_tools = [\n",
    "    QueryEngineTool(\n",
    "        query_engine=query_engine_dict[\"lyft\"],\n",
    "        metadata=ToolMetadata(\n",
    "            name=\"lyft_10k\",\n",
    "            description=(\n",
    "                \"Provides information about Lyft financials for year 2021. \"\n",
    "                \"Use a detailed plain text question as input to the tool.\"\n",
    "            ),\n",
    "        ),\n",
    "    ),\n",
    "    QueryEngineTool(\n",
    "        query_engine=query_engine_dict[\"uber\"],\n",
    "        metadata=ToolMetadata(\n",
    "            name=\"uber_10k\",\n",
    "            description=(\n",
    "                \"Provides information about Uber financials for year 2021. \"\n",
    "                \"Use a detailed plain text question as input to the tool.\"\n",
    "            ),\n",
    "        ),\n",
    "    ),\n",
    "]"
   ]
  },
  {
   "cell_type": "markdown",
   "metadata": {},
   "source": [
    "## Agent"
   ]
  },
  {
   "cell_type": "code",
   "execution_count": 7,
   "metadata": {},
   "outputs": [
    {
     "name": "stdout",
     "output_type": "stream",
     "text": [
      "Added user message to memory: Compare the revenue growth of Uber and Lyft in 2021.\n"
     ]
    },
    {
     "name": "stdout",
     "output_type": "stream",
     "text": [
      "=== Calling Function ===\n",
      "Calling function: uber_10k with args: {\"input\": \"What was Uber's revenue growth in 2021?\"}\n",
      "=== Function Output ===\n",
      "Uber's revenue growth in 2021 was 57%.\n",
      "=== Calling Function ===\n",
      "Calling function: lyft_10k with args: {\"input\": \"What was Lyft's revenue growth in 2021?\"}\n",
      "=== Function Output ===\n",
      "Lyft's revenue increased by 36% in 2021 compared to the prior year.\n",
      "=== LLM Response ===\n",
      "In 2021, Uber's revenue growth was 57%, while Lyft's revenue increased by 36%. Therefore, Uber had a higher revenue growth compared to Lyft in the same year.\n"
     ]
    }
   ],
   "source": [
    "llm_gpt4 = OpenAI(model=\"gpt-4\")\n",
    "gpt4_agent_worker = FunctionCallingAgentWorker.from_tools(query_engine_tools, llm=llm_gpt4, verbose=True, allow_parallel_tool_calls=False)\n",
    "gpt4_agent = AgentRunner(gpt4_agent_worker)\n",
    "response = gpt4_agent.chat(\"Compare the revenue growth of Uber and Lyft in 2021.\")"
   ]
  }
 ],
 "metadata": {
  "kernelspec": {
   "display_name": "base",
   "language": "python",
   "name": "python3"
  },
  "language_info": {
   "codemirror_mode": {
    "name": "ipython",
    "version": 3
   },
   "file_extension": ".py",
   "mimetype": "text/x-python",
   "name": "python",
   "nbconvert_exporter": "python",
   "pygments_lexer": "ipython3",
   "version": "3.11.7"
  }
 },
 "nbformat": 4,
 "nbformat_minor": 2
}
