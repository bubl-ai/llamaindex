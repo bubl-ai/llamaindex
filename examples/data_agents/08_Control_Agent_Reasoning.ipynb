{
 "cells": [
  {
   "cell_type": "markdown",
   "metadata": {},
   "source": [
    "This notebook was inpired by this LlamaIndex notebook:\n",
    "\n",
    "https://colab.research.google.com/drive/1c5ORIlqs3YMWosDSMgs6_ZHb5eiANS1c?usp=sharing\n",
    "\n",
    "Making some changes to it with the only intention of trying ideas and learning."
   ]
  },
  {
   "cell_type": "markdown",
   "metadata": {},
   "source": [
    "Notice that I am assuming you have the relevant API_KEYs as environmental variables."
   ]
  },
  {
   "cell_type": "code",
   "execution_count": 2,
   "metadata": {},
   "outputs": [],
   "source": [
    "from typing import Optional\n",
    "\n",
    "from llama_index.llms.openai import OpenAI\n",
    "from llama_index.core.llms import ChatMessage\n",
    "from llama_index.core.tools import BaseTool, FunctionTool\n",
    "from llama_index.core.agent import FunctionCallingAgentWorker\n",
    "from llama_index.core.agent import AgentRunner\n",
    "from llama_index.core.bridge.pydantic import BaseModel\n",
    "import random\n",
    "import string"
   ]
  },
  {
   "cell_type": "markdown",
   "metadata": {},
   "source": [
    "Things to know:\n",
    "- We will define an Agent that manages bookings for a restaurant.\n",
    "    - We will use a `Booking` Pydantic class to track and represent a booking.\n",
    "    - We will have the next methods:\n",
    "        - `get_booking_state`: Use booking ID to retrieve the state of a booking\n",
    "        - `update_booking`: Update the booking by modifying a specific property.\n",
    "        - `create_booking`: Initialize a booking and requesting more info.\n",
    "        - `confirm_booking`: Complete the booking by making sure all information has been provided"
   ]
  },
  {
   "cell_type": "markdown",
   "metadata": {},
   "source": [
    "## Booking Class"
   ]
  },
  {
   "cell_type": "code",
   "execution_count": 38,
   "metadata": {},
   "outputs": [],
   "source": [
    "# we will store booking under random IDs\n",
    "bookings = {}\n",
    "\n",
    "class Booking(BaseModel):\n",
    "    name: Optional[str] = None\n",
    "    email: Optional[str] = None\n",
    "    phone: Optional[str] = None\n",
    "    date: Optional[str] = None\n",
    "    time: Optional[str] = None\n",
    "\n",
    "\n",
    "def get_booking_state(user_id: str) -> str:\n",
    "    \"\"\"Get the current state of a booking for a given booking ID.\"\"\"\n",
    "    try:\n",
    "        return str(bookings[user_id].dict())\n",
    "    except:\n",
    "        return f\"Booking ID {user_id} not found\"\n",
    "\n",
    "\n",
    "def update_booking(user_id: str, property: str, value: str) -> str:\n",
    "    \"\"\"Update a property of a booking for a given booking ID. Only enter details that are explicitly provided.\"\"\"\n",
    "    booking = bookings[user_id]\n",
    "    setattr(booking, property, value)\n",
    "    return f\"Booking ID {user_id} updated with {property} = {value}\"\n",
    "\n",
    "\n",
    "def create_booking() -> str:\n",
    "    \"\"\"Create a new booking and return the booking ID.\"\"\"\n",
    "    # Generate the random ID\n",
    "    user_id = ''.join(random.choice(string.ascii_uppercase) for _ in range(6))\n",
    "    bookings[user_id] = Booking()\n",
    "    return f\"Booking created with id {user_id}, but not yet confirmed. Please provide your name, email, phone, date, and time.\"\n",
    "\n",
    "\n",
    "def confirm_booking(user_id: str) -> str:\n",
    "    \"\"\"Confirm a booking for a given booking ID.\"\"\"\n",
    "    booking = bookings[user_id]\n",
    "\n",
    "    if booking.name is None:\n",
    "        raise ValueError(\"Please provide your name.\")\n",
    "\n",
    "    if booking.email is None:\n",
    "        raise ValueError(\"Please provide your email.\")\n",
    "\n",
    "    if booking.phone is None:\n",
    "        raise ValueError(\"Please provide your phone number.\")\n",
    "\n",
    "    if booking.date is None:\n",
    "        raise ValueError(\"Please provide the date of your booking.\")\n",
    "\n",
    "    if booking.time is None:\n",
    "        raise ValueError(\"Please provide the time of your booking.\")\n",
    "\n",
    "    return f\"Booking for Name: {booking.name} and ID: {user_id} is confirmed!\""
   ]
  },
  {
   "cell_type": "code",
   "execution_count": 39,
   "metadata": {},
   "outputs": [],
   "source": [
    "get_booking_state_tool = FunctionTool.from_defaults(fn=get_booking_state, return_direct=True)\n",
    "update_booking_tool = FunctionTool.from_defaults(fn=update_booking)\n",
    "create_booking_tool = FunctionTool.from_defaults(fn=create_booking, return_direct=True)\n",
    "confirm_booking_tool = FunctionTool.from_defaults(fn=confirm_booking, return_direct=True)\n",
    "\n",
    "tools = [\n",
    "    get_booking_state_tool,\n",
    "    update_booking_tool,\n",
    "    create_booking_tool,\n",
    "    confirm_booking_tool,\n",
    "]"
   ]
  },
  {
   "cell_type": "code",
   "execution_count": 40,
   "metadata": {},
   "outputs": [],
   "source": [
    "prefix_messages = [\n",
    "    ChatMessage(\n",
    "        role=\"system\",\n",
    "        content=(\n",
    "            f\"You are now connected to the booking system and helping a user with making a booking. \"\n",
    "            \"Only enter details that the user has explicitly provided. \"\n",
    "            \"Do not make up any details.\"\n",
    "        ),\n",
    "    )\n",
    "]"
   ]
  },
  {
   "cell_type": "code",
   "execution_count": 43,
   "metadata": {},
   "outputs": [],
   "source": [
    "worker = FunctionCallingAgentWorker(\n",
    "    tools=tools,\n",
    "    llm=OpenAI(model='gpt-3.5-turbo'),\n",
    "    prefix_messages=prefix_messages,\n",
    "    max_function_calls=10,\n",
    "    allow_parallel_tool_calls=False,\n",
    "    verbose=True,\n",
    ")\n",
    "agent = AgentRunner(worker)"
   ]
  },
  {
   "cell_type": "code",
   "execution_count": 44,
   "metadata": {},
   "outputs": [
    {
     "name": "stdout",
     "output_type": "stream",
     "text": [
      "Added user message to memory: Hello! I would like to make a booking.\n",
      "=== Calling Function ===\n",
      "Calling function: create_booking with args: {}\n",
      "=== Function Output ===\n",
      "Booking created with id UDHTNJ, but not yet confirmed. Please provide your name, email, phone, date, and time.\n"
     ]
    }
   ],
   "source": [
    "response = agent.chat(\"Hello! I would like to make a booking.\")"
   ]
  },
  {
   "cell_type": "code",
   "execution_count": 45,
   "metadata": {},
   "outputs": [
    {
     "name": "stdout",
     "output_type": "stream",
     "text": [
      "Added user message to memory: Sure! My name is bubl-ai, and my email is contact.bubl.ai@gmail.com\n",
      "=== Calling Function ===\n",
      "Calling function: update_booking with args: {\"property\": \"name\", \"user_id\": \"UDHTNJ\", \"value\": \"bubl-ai\"}\n",
      "=== Function Output ===\n",
      "Booking ID UDHTNJ updated with name = bubl-ai\n",
      "=== Calling Function ===\n",
      "Calling function: update_booking with args: {\"property\": \"email\", \"user_id\": \"UDHTNJ\", \"value\": \"contact.bubl.ai@gmail.com\"}\n",
      "=== Function Output ===\n",
      "Booking ID UDHTNJ updated with email = contact.bubl.ai@gmail.com\n",
      "=== LLM Response ===\n",
      "Thank you for providing your name and email. Could you please provide your phone number, preferred date, and time for the booking?\n"
     ]
    }
   ],
   "source": [
    "response = agent.chat(\"Sure! My name is bubl-ai, and my email is contact.bubl.ai@gmail.com\")"
   ]
  },
  {
   "cell_type": "code",
   "execution_count": 46,
   "metadata": {},
   "outputs": [
    {
     "name": "stdout",
     "output_type": "stream",
     "text": [
      "Added user message to memory: My phone number is 111-222-3456, reservation for this sunday at 10 am\n",
      "=== Calling Function ===\n",
      "Calling function: update_booking with args: {\"property\": \"phone\", \"user_id\": \"UDHTNJ\", \"value\": \"111-222-3456\"}\n",
      "=== Function Output ===\n",
      "Booking ID UDHTNJ updated with phone = 111-222-3456\n",
      "=== Calling Function ===\n",
      "Calling function: update_booking with args: {\"property\": \"date\", \"user_id\": \"UDHTNJ\", \"value\": \"this sunday\"}\n",
      "=== Function Output ===\n",
      "Booking ID UDHTNJ updated with date = this sunday\n",
      "=== Calling Function ===\n",
      "Calling function: update_booking with args: {\"property\": \"time\", \"user_id\": \"UDHTNJ\", \"value\": \"10 am\"}\n",
      "=== Function Output ===\n",
      "Booking ID UDHTNJ updated with time = 10 am\n",
      "=== LLM Response ===\n",
      "Thank you for providing all the details. Your booking is almost complete. Would you like to confirm the booking now?\n"
     ]
    }
   ],
   "source": [
    "response = agent.chat(\"My phone number is 111-222-3456, reservation for this sunday at 10 am\")"
   ]
  },
  {
   "cell_type": "code",
   "execution_count": 47,
   "metadata": {},
   "outputs": [
    {
     "name": "stdout",
     "output_type": "stream",
     "text": [
      "Added user message to memory: yes\n",
      "=== Calling Function ===\n",
      "Calling function: confirm_booking with args: {\"user_id\": \"UDHTNJ\"}\n",
      "=== Function Output ===\n",
      "Booking for Name: bubl-ai and ID: UDHTNJ is confirmed!\n"
     ]
    }
   ],
   "source": [
    "response = agent.chat(\"yes\")"
   ]
  },
  {
   "cell_type": "code",
   "execution_count": 48,
   "metadata": {},
   "outputs": [
    {
     "name": "stdout",
     "output_type": "stream",
     "text": [
      "Added user message to memory: provide the booking details\n",
      "=== Calling Function ===\n",
      "Calling function: get_booking_state with args: {\"user_id\": \"UDHTNJ\"}\n",
      "=== Function Output ===\n",
      "{'name': 'bubl-ai', 'email': 'contact.bubl.ai@gmail.com', 'phone': '111-222-3456', 'date': 'this sunday', 'time': '10 am'}\n"
     ]
    }
   ],
   "source": [
    "response = agent.chat(\"provide the booking details\")"
   ]
  },
  {
   "cell_type": "code",
   "execution_count": 49,
   "metadata": {},
   "outputs": [
    {
     "name": "stdout",
     "output_type": "stream",
     "text": [
      "Added user message to memory: provide the booking details for ID QWEE\n",
      "=== Calling Function ===\n",
      "Calling function: get_booking_state with args: {\"user_id\": \"QWEE\"}\n",
      "=== Function Output ===\n",
      "Booking ID QWEE not found\n"
     ]
    }
   ],
   "source": [
    "response = agent.chat(\"provide the booking details for ID QWEE\")"
   ]
  },
  {
   "cell_type": "code",
   "execution_count": 50,
   "metadata": {},
   "outputs": [
    {
     "name": "stdout",
     "output_type": "stream",
     "text": [
      "Added user message to memory: What user ID exist on your data?\n",
      "=== LLM Response ===\n",
      "The user ID \"UDHTNJ\" exists in the data. If you have any other user IDs you would like to inquire about, please provide them.\n"
     ]
    }
   ],
   "source": [
    "response = agent.chat(\"What user ID exist on your data?\")"
   ]
  }
 ],
 "metadata": {
  "kernelspec": {
   "display_name": "base",
   "language": "python",
   "name": "python3"
  },
  "language_info": {
   "codemirror_mode": {
    "name": "ipython",
    "version": 3
   },
   "file_extension": ".py",
   "mimetype": "text/x-python",
   "name": "python",
   "nbconvert_exporter": "python",
   "pygments_lexer": "ipython3",
   "version": "3.11.7"
  }
 },
 "nbformat": 4,
 "nbformat_minor": 2
}
