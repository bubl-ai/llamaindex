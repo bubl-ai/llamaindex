{
 "cells": [
  {
   "cell_type": "markdown",
   "metadata": {},
   "source": [
    "This notebook was inpired by [this LlamaIndex notebook](https://colab.research.google.com/drive/1c5ORIlqs3YMWosDSMgs6_ZHb5eiANS1c?usp=sharing)\n",
    "\n",
    "Making some changes to it with the only intention of trying ideas and learning."
   ]
  },
  {
   "cell_type": "markdown",
   "metadata": {},
   "source": [
    "Notice that I am assuming you have the relevant API_KEYs as environmental variables."
   ]
  },
  {
   "cell_type": "code",
   "execution_count": 11,
   "metadata": {},
   "outputs": [],
   "source": [
    "from bubls.utils.agents.booking_tools import (\n",
    "    get_booking_state_tool,\n",
    "    update_booking_tool,\n",
    "    create_booking_tool,\n",
    "    confirm_booking_tool\n",
    ")\n",
    "from llama_index.llms.openai import OpenAI\n",
    "from llama_index.core.llms import ChatMessage\n",
    "from llama_index.core.agent import FunctionCallingAgentWorker\n",
    "from llama_index.core.agent import AgentRunner"
   ]
  },
  {
   "cell_type": "markdown",
   "metadata": {},
   "source": [
    "Things to know:\n",
    "- We will define an Agent that manages bookings for a restaurant.\n",
    "    - We will use a `Booking` Pydantic class to track and represent a booking.\n",
    "    - We will have the next methods:\n",
    "        - `get_booking_state`: Use booking ID to retrieve the state of a booking. With return_direct=True, no LLM is used to generate the output\n",
    "        - `update_booking`: Update the booking by modifying a specific property. With return_direct=False, LLM is used to generate the output\n",
    "        - `create_booking`: Initialize a booking and requesting more info. With return_direct=True, no LLM is used to generate the output\n",
    "        - `confirm_booking`: Complete the booking by making sure all information has been provided With return_direct=True, no LLM is used to generate the output"
   ]
  },
  {
   "cell_type": "markdown",
   "metadata": {},
   "source": [
    "## Booking Tools"
   ]
  },
  {
   "cell_type": "code",
   "execution_count": 2,
   "metadata": {},
   "outputs": [],
   "source": [
    "tools = [\n",
    "    get_booking_state_tool,\n",
    "    update_booking_tool,\n",
    "    create_booking_tool,\n",
    "    confirm_booking_tool,\n",
    "]"
   ]
  },
  {
   "cell_type": "code",
   "execution_count": 3,
   "metadata": {},
   "outputs": [],
   "source": [
    "prefix_messages = [\n",
    "    ChatMessage(\n",
    "        role=\"system\",\n",
    "        content=(\n",
    "            f\"You are now connected to the booking system and helping a user with making a booking. \"\n",
    "            \"Only enter details that the user has explicitly provided.\"\n",
    "            \"Do not make up any details.\"\n",
    "        ),\n",
    "    )\n",
    "]"
   ]
  },
  {
   "cell_type": "code",
   "execution_count": 4,
   "metadata": {},
   "outputs": [],
   "source": [
    "worker = FunctionCallingAgentWorker(\n",
    "    tools=tools,\n",
    "    llm=OpenAI(model='gpt-3.5-turbo'),\n",
    "    prefix_messages=prefix_messages,\n",
    "    max_function_calls=10,\n",
    "    allow_parallel_tool_calls=False,\n",
    "    verbose=True,\n",
    ")\n",
    "agent = AgentRunner(worker)"
   ]
  },
  {
   "cell_type": "code",
   "execution_count": 5,
   "metadata": {},
   "outputs": [
    {
     "name": "stdout",
     "output_type": "stream",
     "text": [
      "Added user message to memory: Hello! I would like to make a booking.\n"
     ]
    },
    {
     "name": "stdout",
     "output_type": "stream",
     "text": [
      "=== Calling Function ===\n",
      "Calling function: create_booking with args: {}\n",
      "=== Function Output ===\n",
      "Booking created with id EMZQLL, but not yet confirmed. Please provide your name, email, phone, date, and time.\n"
     ]
    }
   ],
   "source": [
    "response = agent.chat(\"Hello! I would like to make a booking.\")"
   ]
  },
  {
   "cell_type": "code",
   "execution_count": 6,
   "metadata": {},
   "outputs": [
    {
     "name": "stdout",
     "output_type": "stream",
     "text": [
      "Added user message to memory: Sure! My name is bubl-ai, and my email is contact.bubl.ai@gmail.com\n"
     ]
    },
    {
     "name": "stdout",
     "output_type": "stream",
     "text": [
      "=== Calling Function ===\n",
      "Calling function: update_booking with args: {\"property\": \"name\", \"user_id\": \"EMZQLL\", \"value\": \"bubl-ai\"}\n",
      "=== Function Output ===\n",
      "Booking ID EMZQLL updated with name = bubl-ai\n",
      "=== Calling Function ===\n",
      "Calling function: update_booking with args: {\"property\": \"email\", \"user_id\": \"EMZQLL\", \"value\": \"contact.bubl.ai@gmail.com\"}\n",
      "=== Function Output ===\n",
      "Booking ID EMZQLL updated with email = contact.bubl.ai@gmail.com\n",
      "=== LLM Response ===\n",
      "Thank you for providing your name and email. Could you please provide your phone number, preferred date, and time for the booking?\n"
     ]
    }
   ],
   "source": [
    "response = agent.chat(\"Sure! My name is bubl-ai, and my email is contact.bubl.ai@gmail.com\")"
   ]
  },
  {
   "cell_type": "code",
   "execution_count": 7,
   "metadata": {},
   "outputs": [
    {
     "name": "stdout",
     "output_type": "stream",
     "text": [
      "Added user message to memory: My phone number is 111-222-3456, reservation for this sunday at 10 am\n"
     ]
    },
    {
     "name": "stdout",
     "output_type": "stream",
     "text": [
      "=== Calling Function ===\n",
      "Calling function: update_booking with args: {\"property\": \"phone\", \"user_id\": \"EMZQLL\", \"value\": \"111-222-3456\"}\n",
      "=== Function Output ===\n",
      "Booking ID EMZQLL updated with phone = 111-222-3456\n",
      "=== Calling Function ===\n",
      "Calling function: update_booking with args: {\"property\": \"date\", \"user_id\": \"EMZQLL\", \"value\": \"this sunday\"}\n",
      "=== Function Output ===\n",
      "Booking ID EMZQLL updated with date = this sunday\n",
      "=== Calling Function ===\n",
      "Calling function: update_booking with args: {\"property\": \"time\", \"user_id\": \"EMZQLL\", \"value\": \"10 am\"}\n",
      "=== Function Output ===\n",
      "Booking ID EMZQLL updated with time = 10 am\n",
      "=== LLM Response ===\n",
      "Thank you for providing all the details. Your booking is almost complete. Would you like to confirm the booking for this Sunday at 10 am?\n"
     ]
    }
   ],
   "source": [
    "response = agent.chat(\"My phone number is 111-222-3456, reservation for this sunday at 10 am\")"
   ]
  },
  {
   "cell_type": "code",
   "execution_count": 8,
   "metadata": {},
   "outputs": [
    {
     "name": "stdout",
     "output_type": "stream",
     "text": [
      "Added user message to memory: yes\n",
      "=== Calling Function ===\n",
      "Calling function: confirm_booking with args: {\"user_id\": \"EMZQLL\"}\n",
      "=== Function Output ===\n",
      "Booking for Name: bubl-ai and ID: EMZQLL is confirmed!\n"
     ]
    }
   ],
   "source": [
    "response = agent.chat(\"yes\")"
   ]
  },
  {
   "cell_type": "code",
   "execution_count": 9,
   "metadata": {},
   "outputs": [
    {
     "name": "stdout",
     "output_type": "stream",
     "text": [
      "Added user message to memory: provide the booking details\n",
      "=== Calling Function ===\n",
      "Calling function: get_booking_state with args: {\"user_id\": \"EMZQLL\"}\n",
      "=== Function Output ===\n",
      "{'name': 'bubl-ai', 'email': 'contact.bubl.ai@gmail.com', 'phone': '111-222-3456', 'date': 'this sunday', 'time': '10 am'}\n"
     ]
    }
   ],
   "source": [
    "response = agent.chat(\"provide the booking details\")"
   ]
  },
  {
   "cell_type": "code",
   "execution_count": 17,
   "metadata": {},
   "outputs": [
    {
     "name": "stdout",
     "output_type": "stream",
     "text": [
      "Added user message to memory: Write as list all user the IDs and the name is associated with each.\n",
      "=== LLM Response ===\n",
      "1. Booking ID: EMZQLL, Name: bubl-ai\n"
     ]
    }
   ],
   "source": [
    "response = agent.chat(\"Write as list all user the IDs and the name is associated with each.\")"
   ]
  }
 ],
 "metadata": {
  "kernelspec": {
   "display_name": "base",
   "language": "python",
   "name": "python3"
  },
  "language_info": {
   "codemirror_mode": {
    "name": "ipython",
    "version": 3
   },
   "file_extension": ".py",
   "mimetype": "text/x-python",
   "name": "python",
   "nbconvert_exporter": "python",
   "pygments_lexer": "ipython3",
   "version": "3.11.7"
  }
 },
 "nbformat": 4,
 "nbformat_minor": 2
}
