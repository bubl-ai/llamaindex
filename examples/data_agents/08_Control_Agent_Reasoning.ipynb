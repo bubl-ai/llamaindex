{
 "cells": [
  {
   "cell_type": "markdown",
   "metadata": {},
   "source": [
    "This notebook was inpired by [this LlamaIndex notebook](https://colab.research.google.com/drive/1c5ORIlqs3YMWosDSMgs6_ZHb5eiANS1c?usp=sharing)\n",
    "\n",
    "Making some changes to it with the only intention of trying ideas and learning."
   ]
  },
  {
   "cell_type": "markdown",
   "metadata": {},
   "source": [
    "Notice that I am assuming you have the relevant API_KEYs as environmental variables."
   ]
  },
  {
   "cell_type": "code",
   "execution_count": 2,
   "metadata": {},
   "outputs": [],
   "source": [
    "from bubls.utils.agents.booking_tools import (\n",
    "    get_booking_state_tool,\n",
    "    update_booking_tool,\n",
    "    create_booking_tool,\n",
    "    confirm_booking_tool\n",
    ")\n",
    "from llama_index.llms.openai import OpenAI\n",
    "from llama_index.core.llms import ChatMessage\n",
    "from llama_index.core.agent import FunctionCallingAgentWorker\n",
    "from llama_index.core.agent import AgentRunner"
   ]
  },
  {
   "cell_type": "markdown",
   "metadata": {},
   "source": [
    "Things to know:\n",
    "- We will define an Agent that manages bookings for a restaurant.\n",
    "    - We will use a `Booking` Pydantic class to track and represent a booking.\n",
    "    - We will have the next methods:\n",
    "        - `get_booking_state`: Use booking ID to retrieve the state of a booking. With return_direct=True, no LLM is used to generate the output\n",
    "        - `update_booking`: Update the booking by modifying a specific property. With return_direct=False, LLM is used to generate the output\n",
    "        - `create_booking`: Initialize a booking and requesting more info. With return_direct=True, no LLM is used to generate the output\n",
    "        - `confirm_booking`: Complete the booking by making sure all information has been provided With return_direct=True, no LLM is used to generate the output"
   ]
  },
  {
   "cell_type": "markdown",
   "metadata": {},
   "source": [
    "## Booking Tools"
   ]
  },
  {
   "cell_type": "code",
   "execution_count": 3,
   "metadata": {},
   "outputs": [],
   "source": [
    "tools = [\n",
    "    get_booking_state_tool,\n",
    "    update_booking_tool,\n",
    "    create_booking_tool,\n",
    "    confirm_booking_tool,\n",
    "]"
   ]
  },
  {
   "cell_type": "code",
   "execution_count": 4,
   "metadata": {},
   "outputs": [],
   "source": [
    "prefix_messages = [\n",
    "    ChatMessage(\n",
    "        role=\"system\",\n",
    "        content=(\n",
    "            f\"You are now connected to the booking system and helping a user with making a booking. \"\n",
    "            \"Only enter details that the user has explicitly provided.\"\n",
    "            \"Do not make up any details.\"\n",
    "        ),\n",
    "    )\n",
    "]"
   ]
  },
  {
   "cell_type": "code",
   "execution_count": 5,
   "metadata": {},
   "outputs": [],
   "source": [
    "worker = FunctionCallingAgentWorker(\n",
    "    tools=tools,\n",
    "    llm=OpenAI(model='gpt-3.5-turbo'),\n",
    "    prefix_messages=prefix_messages,\n",
    "    max_function_calls=10,\n",
    "    allow_parallel_tool_calls=False,\n",
    "    verbose=True,\n",
    ")\n",
    "agent = AgentRunner(worker)"
   ]
  },
  {
   "cell_type": "code",
   "execution_count": 18,
   "metadata": {},
   "outputs": [
    {
     "name": "stdout",
     "output_type": "stream",
     "text": [
      "Added user message to memory: Hello! I would like to make a booking.\n",
      "=== LLM Response ===\n",
      "Great! To proceed with the booking, could you please provide me with your name, email, phone number, date, and time for the booking?\n"
     ]
    }
   ],
   "source": [
    "response = agent.chat(\"Hello! I would like to make a booking.\")"
   ]
  },
  {
   "cell_type": "code",
   "execution_count": 19,
   "metadata": {},
   "outputs": [
    {
     "name": "stdout",
     "output_type": "stream",
     "text": [
      "Added user message to memory: Sure! My name is bubl-ai, and my email is contact.bubl.ai@gmail.com\n",
      "=== Calling Function ===\n",
      "Calling function: create_booking with args: {}\n",
      "=== Function Output ===\n",
      "Booking created with id KJKNYO, but not yet confirmed. Please provide your name, email, phone, date, and time.\n"
     ]
    }
   ],
   "source": [
    "response = agent.chat(\"Sure! My name is bubl-ai, and my email is contact.bubl.ai@gmail.com\")"
   ]
  },
  {
   "cell_type": "code",
   "execution_count": 20,
   "metadata": {},
   "outputs": [
    {
     "name": "stdout",
     "output_type": "stream",
     "text": [
      "Added user message to memory: My phone number is 111-222-3456, reservation for this sunday at 10 am\n",
      "=== Calling Function ===\n",
      "Calling function: update_booking with args: {\"user_id\": \"KJKNYO\", \"property\": \"name\", \"value\": \"bubl-ai\"}\n",
      "=== Function Output ===\n",
      "Booking ID KJKNYO updated with name = bubl-ai\n",
      "=== Calling Function ===\n",
      "Calling function: update_booking with args: {\"user_id\": \"KJKNYO\", \"property\": \"email\", \"value\": \"contact.bubl.ai@gmail.com\"}\n",
      "=== Function Output ===\n",
      "Booking ID KJKNYO updated with email = contact.bubl.ai@gmail.com\n",
      "=== Calling Function ===\n",
      "Calling function: update_booking with args: {\"user_id\": \"KJKNYO\", \"property\": \"phone\", \"value\": \"111-222-3456\"}\n",
      "=== Function Output ===\n",
      "Booking ID KJKNYO updated with phone = 111-222-3456\n",
      "=== Calling Function ===\n",
      "Calling function: update_booking with args: {\"user_id\": \"KJKNYO\", \"property\": \"date\", \"value\": \"Sunday\"}\n",
      "=== Function Output ===\n",
      "Booking ID KJKNYO updated with date = Sunday\n",
      "=== Calling Function ===\n",
      "Calling function: update_booking with args: {\"user_id\": \"KJKNYO\", \"property\": \"time\", \"value\": \"10:00 AM\"}\n",
      "=== Function Output ===\n",
      "Booking ID KJKNYO updated with time = 10:00 AM\n",
      "=== LLM Response ===\n",
      "I have successfully updated your booking details. Your reservation is set for this Sunday at 10:00 AM. If everything looks good, I can confirm the booking for you.\n"
     ]
    }
   ],
   "source": [
    "response = agent.chat(\"My phone number is 111-222-3456, reservation for this sunday at 10 am\")"
   ]
  },
  {
   "cell_type": "code",
   "execution_count": 21,
   "metadata": {},
   "outputs": [
    {
     "name": "stdout",
     "output_type": "stream",
     "text": [
      "Added user message to memory: yes\n"
     ]
    },
    {
     "name": "stdout",
     "output_type": "stream",
     "text": [
      "=== Calling Function ===\n",
      "Calling function: confirm_booking with args: {\"user_id\": \"KJKNYO\"}\n",
      "=== Function Output ===\n",
      "Booking for Name: bubl-ai and ID: KJKNYO is confirmed!\n"
     ]
    }
   ],
   "source": [
    "response = agent.chat(\"yes\")"
   ]
  },
  {
   "cell_type": "code",
   "execution_count": 22,
   "metadata": {},
   "outputs": [
    {
     "name": "stdout",
     "output_type": "stream",
     "text": [
      "Added user message to memory: provide the booking details\n",
      "=== Calling Function ===\n",
      "Calling function: get_booking_state with args: {\"user_id\": \"KJKNYO\"}\n",
      "=== Function Output ===\n",
      "{'name': 'bubl-ai', 'email': 'contact.bubl.ai@gmail.com', 'phone': '111-222-3456', 'date': 'Sunday', 'time': '10:00 AM'}\n"
     ]
    }
   ],
   "source": [
    "response = agent.chat(\"provide the booking details\")"
   ]
  },
  {
   "cell_type": "code",
   "execution_count": 23,
   "metadata": {},
   "outputs": [
    {
     "name": "stdout",
     "output_type": "stream",
     "text": [
      "Added user message to memory: List all user the IDs that exist and the name is associated with each.\n"
     ]
    },
    {
     "name": "stdout",
     "output_type": "stream",
     "text": [
      "=== LLM Response ===\n",
      "Here is the list of user IDs and the associated names:\n",
      "\n",
      "1. User ID: KJKNYO, Name: bubl-ai\n"
     ]
    }
   ],
   "source": [
    "response = agent.chat(\"List all user the IDs that exist and the name is associated with each.\")"
   ]
  }
 ],
 "metadata": {
  "kernelspec": {
   "display_name": "base",
   "language": "python",
   "name": "python3"
  },
  "language_info": {
   "codemirror_mode": {
    "name": "ipython",
    "version": 3
   },
   "file_extension": ".py",
   "mimetype": "text/x-python",
   "name": "python",
   "nbconvert_exporter": "python",
   "pygments_lexer": "ipython3",
   "version": "3.11.7"
  }
 },
 "nbformat": 4,
 "nbformat_minor": 2
}
