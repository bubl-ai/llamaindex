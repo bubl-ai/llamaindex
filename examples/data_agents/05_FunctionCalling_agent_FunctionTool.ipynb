{
 "cells": [
  {
   "cell_type": "markdown",
   "metadata": {},
   "source": [
    "This notebook was inpired by [this LlamaIndex notebook](https://colab.research.google.com/drive/1GyPRMiwxS7rKxKpRt4r-ckYfmAw2GxdQ?usp=sharing)\n",
    "\n",
    "I edited the original notebook to focus on Open AI LLMs, I am focusing on comparing **gpt-3.5-turbo** vs. **gpt-4**."
   ]
  },
  {
   "cell_type": "markdown",
   "metadata": {},
   "source": [
    "Notice that I am assuming you have the relevant API_KEYs as environmental variables."
   ]
  },
  {
   "cell_type": "code",
   "execution_count": 3,
   "metadata": {},
   "outputs": [],
   "source": [
    "from bubls.utils.agents.general_function_tools import (\n",
    "    multiply_tool,\n",
    "    add_tool,\n",
    "    subtract_tool\n",
    ")\n",
    "from llama_index.core.agent import FunctionCallingAgentWorker\n",
    "from llama_index.core.agent import AgentRunner\n",
    "from llama_index.llms.openai import OpenAI"
   ]
  },
  {
   "cell_type": "markdown",
   "metadata": {},
   "source": [
    "## Define tools"
   ]
  },
  {
   "cell_type": "code",
   "execution_count": 2,
   "metadata": {},
   "outputs": [],
   "source": [
    "tools = [multiply_tool, add_tool, subtract_tool]"
   ]
  },
  {
   "cell_type": "markdown",
   "metadata": {},
   "source": [
    "## Open AI\n",
    "### GPT 3.5-turbo vs GPT 4"
   ]
  },
  {
   "cell_type": "code",
   "execution_count": 6,
   "metadata": {},
   "outputs": [],
   "source": [
    "llm_gpt3 = OpenAI(model=\"gpt-3.5-turbo\")\n",
    "gpt3_agent_worker = FunctionCallingAgentWorker.from_tools(tools, llm=llm_gpt3, verbose=True, allow_parallel_tool_calls=False)\n",
    "gpt3_agent = AgentRunner(gpt3_agent_worker)\n",
    "\n",
    "llm_gpt4 = OpenAI(model=\"gpt-4\")\n",
    "gpt4_agent_worker = FunctionCallingAgentWorker.from_tools(tools, llm=llm_gpt4, verbose=True, allow_parallel_tool_calls=False)\n",
    "gpt4_agent = AgentRunner(gpt4_agent_worker)\n",
    "\n",
    "# agent without multiply_tool\n",
    "gpt4_agent_worker_incomplete = FunctionCallingAgentWorker.from_tools([add_tool, subtract_tool], llm=llm_gpt4, verbose=True, allow_parallel_tool_calls=False)\n",
    "gpt4_agent_incomplete = AgentRunner(gpt4_agent_worker_incomplete)"
   ]
  },
  {
   "cell_type": "code",
   "execution_count": 7,
   "metadata": {},
   "outputs": [
    {
     "name": "stdout",
     "output_type": "stream",
     "text": [
      "Added user message to memory: What is 20+(2*4)? Calculate step by step.\n",
      "=== Calling Function ===\n",
      "Calling function: multiply with args: {\"a\": 2, \"b\": 4}\n",
      "=== Function Output ===\n",
      "8\n",
      "=== Calling Function ===\n",
      "Calling function: add with args: {\"a\": 20, \"b\": 8}\n",
      "=== Function Output ===\n",
      "28\n",
      "=== LLM Response ===\n",
      "The step by step calculation of 20 + (2 * 4) is as follows:\n",
      "\n",
      "1. Multiply 2 * 4 = 8\n",
      "2. Add 20 + 8 = 28\n",
      "\n",
      "Therefore, 20 + (2 * 4) = 28.\n",
      "---\n",
      " Response\n",
      " assistant: The step by step calculation of 20 + (2 * 4) is as follows:\n",
      "\n",
      "1. Multiply 2 * 4 = 8\n",
      "2. Add 20 + 8 = 28\n",
      "\n",
      "Therefore, 20 + (2 * 4) = 28.\n"
     ]
    }
   ],
   "source": [
    "response = gpt3_agent.chat(\"What is 20+(2*4)? Calculate step by step.\")\n",
    "print(\"---\\n\", \"Response\\n\", response)"
   ]
  },
  {
   "cell_type": "code",
   "execution_count": 10,
   "metadata": {},
   "outputs": [
    {
     "name": "stdout",
     "output_type": "stream",
     "text": [
      "Added user message to memory: What is 20+(2*4)? Calculate step by step.\n",
      "=== Calling Function ===\n",
      "Calling function: multiply with args: {\"a\": 2, \"b\": 4}\n",
      "=== Function Output ===\n",
      "8\n",
      "=== Calling Function ===\n",
      "Calling function: add with args: {\"a\": 20, \"b\": 8}\n",
      "=== Function Output ===\n",
      "28\n",
      "=== LLM Response ===\n",
      "The result of 20+(2*4) is 28.\n",
      "---\n",
      " Response\n",
      " assistant: The result of 20+(2*4) is 28.\n"
     ]
    }
   ],
   "source": [
    "response = gpt4_agent.chat(\"What is 20+(2*4)? Calculate step by step.\")\n",
    "print(\"---\\n\", \"Response\\n\", response)"
   ]
  },
  {
   "cell_type": "code",
   "execution_count": 9,
   "metadata": {},
   "outputs": [
    {
     "name": "stdout",
     "output_type": "stream",
     "text": [
      "Added user message to memory: What is 20+(2*4)? Calculate step by step.\n",
      "=== LLM Response ===\n",
      "First, we need to follow the order of operations, which is parentheses, exponents, multiplication and division (from left to right), addition and subtraction (from left to right). This is often abbreviated as PEMDAS.\n",
      "\n",
      "So, let's calculate the multiplication part first: 2*4.\n",
      "\n",
      "Let's use the function to calculate this.\n",
      "=== Calling Function ===\n",
      "Calling function: add with args: {\"a\": 2, \"b\": 4}\n",
      "=== Function Output ===\n",
      "6\n",
      "=== LLM Response ===\n",
      "I apologize for the mistake. The multiplication of 2 and 4 is 8, not 6. \n",
      "\n",
      "Now, let's add this result (8) to 20.\n",
      "=== Calling Function ===\n",
      "Calling function: add with args: {\"a\": 20, \"b\": 8}\n",
      "=== Function Output ===\n",
      "28\n",
      "=== LLM Response ===\n",
      "So, the result of 20+(2*4) is 28.\n",
      "---\n",
      " Response\n",
      " assistant: So, the result of 20+(2*4) is 28.\n"
     ]
    }
   ],
   "source": [
    "response = gpt4_agent_incomplete.chat(\"What is 20+(2*4)? Calculate step by step.\")\n",
    "print(\"---\\n\", \"Response\\n\", response)"
   ]
  }
 ],
 "metadata": {
  "kernelspec": {
   "display_name": "base",
   "language": "python",
   "name": "python3"
  },
  "language_info": {
   "codemirror_mode": {
    "name": "ipython",
    "version": 3
   },
   "file_extension": ".py",
   "mimetype": "text/x-python",
   "name": "python",
   "nbconvert_exporter": "python",
   "pygments_lexer": "ipython3",
   "version": "3.11.7"
  }
 },
 "nbformat": 4,
 "nbformat_minor": 2
}
