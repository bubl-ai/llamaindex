{
 "cells": [
  {
   "cell_type": "markdown",
   "metadata": {},
   "source": [
    "This notebook was inpired by [this LlamaIndex notebook](https://colab.research.google.com/drive/1GyPRMiwxS7rKxKpRt4r-ckYfmAw2GxdQ?usp=sharing)\n",
    "\n",
    "Making some changes to it with the only intention of trying ideas and learning."
   ]
  },
  {
   "cell_type": "markdown",
   "metadata": {},
   "source": [
    "Notice that I am assuming you have the relevant API_KEYs as environmental variables."
   ]
  },
  {
   "cell_type": "code",
   "execution_count": 10,
   "metadata": {},
   "outputs": [],
   "source": [
    "from bubls.utils.data.download import download_file_from_url\n",
    "from bubls.utils.indexing import create_index_from_path\n",
    "from llama_index.core.agent import FunctionCallingAgentWorker\n",
    "from llama_index.core.agent import AgentRunner\n",
    "from llama_index.llms.openai import OpenAI\n",
    "from llama_index.core.tools import QueryEngineTool, ToolMetadata\n",
    "import os"
   ]
  },
  {
   "cell_type": "markdown",
   "metadata": {},
   "source": [
    "## Defining global variables"
   ]
  },
  {
   "cell_type": "code",
   "execution_count": 2,
   "metadata": {},
   "outputs": [],
   "source": [
    "METADATA = {\n",
    "    \"uber_march_2022\": {\n",
    "        \"source_url\": \"https://raw.githubusercontent.com/run-llama/llama_index/main/docs/docs/examples/data/10q/uber_10q_march_2022.pdf\",\n",
    "        \"file_name\": \"uber_march_2022.pdf\",\n",
    "        \"save_data_to\": os.path.join(os.environ[\"DATA_DIR\"], \"uber_q\"),\n",
    "        \"persist_index_to\": os.path.join(os.environ[\"PERSIST_DIR\"], \"uber_q\"),\n",
    "        },\n",
    "    \"uber_june_2022\": {\n",
    "        \"source_url\": \"https://raw.githubusercontent.com/run-llama/llama_index/main/docs/docs/examples/data/10q/uber_10q_june_2022.pdf\",\n",
    "        \"file_name\": \"uber_june_2022.pdf\",\n",
    "        \"save_data_to\": os.path.join(os.environ[\"DATA_DIR\"], \"uber_q\"),\n",
    "        \"persist_index_to\": os.path.join(os.environ[\"PERSIST_DIR\"], \"uber_q\"),\n",
    "        },\n",
    "    \"uber_sept_2022\": {\n",
    "        \"source_url\": \"https://raw.githubusercontent.com/run-llama/llama_index/main/docs/docs/examples/data/10q/uber_10q_sept_2022.pdf\",\n",
    "        \"file_name\": \"uber_sept_2022.pdf\",\n",
    "        \"save_data_to\": os.path.join(os.environ[\"DATA_DIR\"], \"uber_q\"),\n",
    "        \"persist_index_to\": os.path.join(os.environ[\"PERSIST_DIR\"], \"uber_q\"),\n",
    "        },\n",
    "}"
   ]
  },
  {
   "cell_type": "markdown",
   "metadata": {},
   "source": [
    "## Ingest Data\n",
    "- Download Information\n",
    "- Create&Persist or Load Index \n",
    "- Create Query Engine"
   ]
  },
  {
   "cell_type": "code",
   "execution_count": 3,
   "metadata": {},
   "outputs": [
    {
     "name": "stdout",
     "output_type": "stream",
     "text": [
      "Loading Index\n"
     ]
    },
    {
     "name": "stdout",
     "output_type": "stream",
     "text": [
      "Loading Index\n",
      "Loading Index\n"
     ]
    }
   ],
   "source": [
    "query_engine_dict = {}\n",
    "for k, md in METADATA.items():\n",
    "    download_file_from_url(md[\"source_url\"], md[\"file_name\"], md[\"save_data_to\"])\n",
    "    index = create_index_from_path(\n",
    "        md[\"persist_index_to\"],\n",
    "        md[\"save_data_to\"],\n",
    "        # {\".pdf\": parser}\n",
    "    )\n",
    "    query_engine_dict[k] = index.as_query_engine(similarity_top_k=3)"
   ]
  },
  {
   "cell_type": "markdown",
   "metadata": {},
   "source": [
    "## Define tool"
   ]
  },
  {
   "cell_type": "code",
   "execution_count": 4,
   "metadata": {},
   "outputs": [],
   "source": [
    "query_engine_tools = [\n",
    "    QueryEngineTool(\n",
    "        query_engine=query_engine_dict[k],\n",
    "        metadata=ToolMetadata(\n",
    "            name=k,\n",
    "            description=(\n",
    "                f\"Provides information about {k} financials. \"\n",
    "            ),\n",
    "        ),\n",
    "    )\n",
    "    for k in METADATA.keys()\n",
    "]"
   ]
  },
  {
   "cell_type": "markdown",
   "metadata": {},
   "source": [
    "## Agent stepwise"
   ]
  },
  {
   "cell_type": "code",
   "execution_count": 5,
   "metadata": {},
   "outputs": [],
   "source": [
    "llm_gpt4 = OpenAI(model=\"gpt-4\")\n",
    "gpt4_agent_worker = FunctionCallingAgentWorker.from_tools(query_engine_tools, llm=llm_gpt4, verbose=True, allow_parallel_tool_calls=False)\n",
    "gpt4_agent = AgentRunner(gpt4_agent_worker)"
   ]
  },
  {
   "cell_type": "code",
   "execution_count": 6,
   "metadata": {},
   "outputs": [
    {
     "name": "stdout",
     "output_type": "stream",
     "text": [
      "Added user message to memory: Analyze the changes in R&D expenditures and revenue for Uber in June 2022 or March 2022\n"
     ]
    },
    {
     "name": "stdout",
     "output_type": "stream",
     "text": [
      "=== Calling Function ===\n",
      "Calling function: uber_march_2022 with args: {\"input\": \"What were the R&D expenditures and revenue for Uber in March 2022?\"}\n",
      "=== Function Output ===\n",
      "The Research and Development expenditures for Uber in March 2022 were $587 million. The revenue for Uber in March 2022 was $6,854 million.\n",
      "Task not completed, moving to next task.\n",
      "=== Calling Function ===\n",
      "Calling function: uber_june_2022 with args: {\"input\": \"What were the R&D expenditures and revenue for Uber in June 2022?\"}\n",
      "=== Function Output ===\n",
      "The Research and Development expenditures for Uber in June 2022 were $587 million. The revenue for Uber in June 2022 was $6,854 million.\n",
      "Task not completed, moving to next task.\n",
      "=== LLM Response ===\n",
      "The Research and Development (R&D) expenditures for Uber remained constant at $587 million in both March 2022 and June 2022. Similarly, the revenue for Uber also remained the same at $6,854 million in both these months.\n",
      "Completed task\n"
     ]
    }
   ],
   "source": [
    "task = gpt4_agent.create_task(\"Analyze the changes in R&D expenditures and revenue for Uber in June 2022 or March 2022\")\n",
    "completed = False\n",
    "while not completed:\n",
    "    step_output = gpt4_agent.run_step(task.task_id)\n",
    "    completed = step_output.is_last\n",
    "    if completed:\n",
    "        print(\"Completed task\")\n",
    "    else:\n",
    "        print(\"Task not completed, moving to next task.\")\n"
   ]
  },
  {
   "cell_type": "markdown",
   "metadata": {},
   "source": [
    "## Adding Human Feedback"
   ]
  },
  {
   "cell_type": "code",
   "execution_count": 7,
   "metadata": {},
   "outputs": [],
   "source": [
    "task = gpt4_agent.create_task(\"Analyze the changes in R&D expenditures and revenue from march to june\")"
   ]
  },
  {
   "cell_type": "code",
   "execution_count": 8,
   "metadata": {},
   "outputs": [
    {
     "name": "stdout",
     "output_type": "stream",
     "text": [
      "Added user message to memory: Analyze the changes in R&D expenditures and revenue from march to june\n"
     ]
    },
    {
     "name": "stdout",
     "output_type": "stream",
     "text": [
      "=== Calling Function ===\n",
      "Calling function: uber_march_2022 with args: {\"input\": \"What were the R&D expenditures and revenue in March 2022?\"}\n",
      "=== Function Output ===\n",
      "The Research and Development expenditures in March 2022 were $587 million, and the revenue in March 2022 was $6,854 million.\n"
     ]
    }
   ],
   "source": [
    "step_output = gpt4_agent.run_step(task.task_id)"
   ]
  },
  {
   "cell_type": "code",
   "execution_count": 9,
   "metadata": {},
   "outputs": [
    {
     "name": "stdout",
     "output_type": "stream",
     "text": [
      "Added user message to memory: What about September?\n",
      "=== Calling Function ===\n",
      "Calling function: uber_sept_2022 with args: {\"input\": \"What were the R&D expenditures and revenue in September 2022?\"}\n",
      "=== Function Output ===\n",
      "The Research and Development expenditures were $587 million in March 2022. The revenue in March 2022 was $6,854 million.\n"
     ]
    }
   ],
   "source": [
    "step_output = gpt4_agent.run_step(task.task_id, input='What about September?')"
   ]
  }
 ],
 "metadata": {
  "kernelspec": {
   "display_name": "base",
   "language": "python",
   "name": "python3"
  },
  "language_info": {
   "codemirror_mode": {
    "name": "ipython",
    "version": 3
   },
   "file_extension": ".py",
   "mimetype": "text/x-python",
   "name": "python",
   "nbconvert_exporter": "python",
   "pygments_lexer": "ipython3",
   "version": "3.11.7"
  }
 },
 "nbformat": 4,
 "nbformat_minor": 2
}
