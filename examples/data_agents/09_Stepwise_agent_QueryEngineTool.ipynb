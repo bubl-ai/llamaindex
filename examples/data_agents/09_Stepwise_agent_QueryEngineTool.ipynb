{
 "cells": [
  {
   "cell_type": "markdown",
   "metadata": {},
   "source": [
    "This notebook was inpired by this LlamaIndex notebook:\n",
    "\n",
    "https://colab.research.google.com/drive/1GyPRMiwxS7rKxKpRt4r-ckYfmAw2GxdQ?usp=sharing\n",
    "\n",
    "Making some changes to it with the only intention of trying ideas and learning."
   ]
  },
  {
   "cell_type": "markdown",
   "metadata": {},
   "source": [
    "Notice that I am assuming you have the relevant API_KEYs as environmental variables."
   ]
  },
  {
   "cell_type": "code",
   "execution_count": 21,
   "metadata": {},
   "outputs": [],
   "source": [
    "from llama_index.core import (\n",
    "    SimpleDirectoryReader,\n",
    "    VectorStoreIndex,\n",
    "    StorageContext,\n",
    "    load_index_from_storage,\n",
    ")\n",
    "from llama_index.core.agent import FunctionCallingAgentWorker\n",
    "from llama_index.core.agent import AgentRunner\n",
    "from llama_index.llms.openai import OpenAI\n",
    "from llama_index.core.tools import QueryEngineTool, ToolMetadata\n",
    "import os\n",
    "import subprocess"
   ]
  },
  {
   "cell_type": "markdown",
   "metadata": {},
   "source": [
    "## Defining global variables"
   ]
  },
  {
   "cell_type": "code",
   "execution_count": 22,
   "metadata": {},
   "outputs": [],
   "source": [
    "COMPANIES = [\"uber\"]\n",
    "DATA_DIRS = {}\n",
    "PERSIST_DIRS = {}\n",
    "for c in COMPANIES:\n",
    "    DATA_DIRS[c] = os.path.join(os.environ[\"DATA_DIR\"], f\"{c}_q\")\n",
    "    PERSIST_DIRS[c] = os.path.join(os.environ[\"PERSIST_DIR\"], f\"{c}_q\")"
   ]
  },
  {
   "cell_type": "markdown",
   "metadata": {},
   "source": [
    "## Download data\n",
    "You can access more files by usinig the next url format\n",
    "\n",
    "https://raw.githubusercontent.com/run-llama/llama_index/main/docs/docs/examples/data/10q/{`COMPANY_NAME`}_10q_{`MONTH`}_{`YEAR`}.pdf'"
   ]
  },
  {
   "cell_type": "code",
   "execution_count": 26,
   "metadata": {},
   "outputs": [],
   "source": [
    "for c in COMPANIES:\n",
    "    if not os.path.exists(DATA_DIRS[c]):\n",
    "        os.mkdir(DATA_DIRS[c])\n",
    "        for year in [\"2022\"]:\n",
    "            for month in [\"march\", \"june\", \"sept\"]:\n",
    "                command = f\"wget 'https://raw.githubusercontent.com/run-llama/llama_index/main/docs/docs/examples/data/10q/{c}_10q_{month}_{year}.pdf' -O '{DATA_DIRS[c]}/{month}_{year}.pdf'\"        \n",
    "                subprocess.run(command, shell=True)"
   ]
  },
  {
   "cell_type": "markdown",
   "metadata": {},
   "source": [
    "# Create index and query engine for each company individually"
   ]
  },
  {
   "cell_type": "code",
   "execution_count": 30,
   "metadata": {},
   "outputs": [
    {
     "name": "stdout",
     "output_type": "stream",
     "text": [
      "Loading Index\n"
     ]
    }
   ],
   "source": [
    "query_engine_dict = {}\n",
    "for c in COMPANIES:\n",
    "    if not os.path.exists(PERSIST_DIRS[c]):\n",
    "        print(\"Creating Index\")\n",
    "        # load the documents and create the index\n",
    "        documents = SimpleDirectoryReader(DATA_DIRS[c]).load_data()\n",
    "        index = VectorStoreIndex.from_documents(documents)\n",
    "        # store it for later\n",
    "        index.storage_context.persist(persist_dir=PERSIST_DIRS[c])\n",
    "    else:\n",
    "        print(\"Loading Index\")\n",
    "        # load the existing index\n",
    "        storage_context = StorageContext.from_defaults(persist_dir=PERSIST_DIRS[c])\n",
    "        index = load_index_from_storage(storage_context)\n",
    "    \n",
    "    query_engine_dict[c] = index.as_query_engine(similarity_top_k=3)\n",
    "    "
   ]
  },
  {
   "cell_type": "markdown",
   "metadata": {},
   "source": [
    "## Define tool"
   ]
  },
  {
   "cell_type": "code",
   "execution_count": 31,
   "metadata": {},
   "outputs": [],
   "source": [
    "query_engine_tools = [\n",
    "    QueryEngineTool(\n",
    "        query_engine=query_engine_dict[c],\n",
    "        metadata=ToolMetadata(\n",
    "            name=f\"{c}_{d}\",\n",
    "            description=(\n",
    "                f\"Provides information about {c} financials for {d}. \"\n",
    "                \"Use a detailed plain text question as input to the tool.\"\n",
    "            ),\n",
    "        ),\n",
    "    )\n",
    "    for c in COMPANIES\n",
    "    for d in [f.split(\".\")[0] for f in os.listdir(DATA_DIRS[c])]\n",
    "]"
   ]
  },
  {
   "cell_type": "markdown",
   "metadata": {},
   "source": [
    "## Agent stepwise"
   ]
  },
  {
   "cell_type": "code",
   "execution_count": 40,
   "metadata": {},
   "outputs": [],
   "source": [
    "llm_gpt4 = OpenAI(model=\"gpt-4\")\n",
    "gpt4_agent_worker = FunctionCallingAgentWorker.from_tools(query_engine_tools, llm=llm_gpt4, verbose=True, allow_parallel_tool_calls=False)\n",
    "gpt4_agent = AgentRunner(gpt4_agent_worker)"
   ]
  },
  {
   "cell_type": "code",
   "execution_count": 19,
   "metadata": {},
   "outputs": [
    {
     "name": "stdout",
     "output_type": "stream",
     "text": [
      "Added user message to memory: Analyze the changes in R&D expenditures and revenue for Uber in June 2022 or March 2022\n"
     ]
    },
    {
     "name": "stdout",
     "output_type": "stream",
     "text": [
      "=== Calling Function ===\n",
      "Calling function: uber_june_2022 with args: {\"input\": \"What were the R&D expenditures and revenue for Uber in June 2022?\"}\n",
      "=== Function Output ===\n",
      "In June 2022, Uber's Research and Development expenditures were $704 million, representing 9% of revenue. The revenue for Uber in June 2022 was $8,073 million.\n",
      "Task not completed, moving to next task.\n",
      "=== Calling Function ===\n",
      "Calling function: uber_march_2022 with args: {\"input\": \"What were the R&D expenditures and revenue for Uber in March 2022?\"}\n",
      "=== Function Output ===\n",
      "The Research and Development expenditures for Uber in March 2022 were $587 million. The revenue for Uber in March 2022 was $6,854 million.\n",
      "Task not completed, moving to next task.\n",
      "=== LLM Response ===\n",
      "In March 2022, Uber's Research and Development (R&D) expenditures were $587 million, and the revenue was $6,854 million. \n",
      "\n",
      "By June 2022, the R&D expenditures increased to $704 million, representing a growth of approximately 20%. The revenue also increased to $8,073 million, showing a growth of about 18%.\n",
      "\n",
      "This indicates that while both the R&D expenditures and revenue increased over this period, the growth in R&D expenditures was slightly higher than the growth in revenue.\n",
      "Completed task\n"
     ]
    }
   ],
   "source": [
    "task = gpt4_agent.create_task(\"Analyze the changes in R&D expenditures and revenue for Uber in June 2022 or March 2022\")\n",
    "completed = False\n",
    "while not completed:\n",
    "    step_output = gpt4_agent.run_step(task.task_id)\n",
    "    completed = step_output.is_last\n",
    "    if completed:\n",
    "        print(\"Completed task\")\n",
    "    else:\n",
    "        print(\"Task not completed, moving to next task.\")\n"
   ]
  },
  {
   "cell_type": "markdown",
   "metadata": {},
   "source": [
    "## Adding Human Feedback"
   ]
  },
  {
   "cell_type": "code",
   "execution_count": 41,
   "metadata": {},
   "outputs": [],
   "source": [
    "task = gpt4_agent.create_task(\"Analyze the changes in R&D expenditures and revenue from march to june\")"
   ]
  },
  {
   "cell_type": "code",
   "execution_count": 42,
   "metadata": {},
   "outputs": [
    {
     "name": "stdout",
     "output_type": "stream",
     "text": [
      "Added user message to memory: Analyze the changes in R&D expenditures and revenue from march to june\n",
      "=== Calling Function ===\n",
      "Calling function: uber_march_2022 with args: {\"input\": \"What were the R&D expenditures and revenue for March 2022?\"}\n",
      "=== Function Output ===\n",
      "The Research and Development expenditures for March 2022 were $587 million, and the revenue for the same period was not explicitly provided in the context information.\n"
     ]
    }
   ],
   "source": [
    "step_output = gpt4_agent.run_step(task.task_id)"
   ]
  },
  {
   "cell_type": "code",
   "execution_count": 43,
   "metadata": {},
   "outputs": [
    {
     "name": "stdout",
     "output_type": "stream",
     "text": [
      "Added user message to memory: What about September?\n",
      "=== Calling Function ===\n",
      "Calling function: uber_sept_2022 with args: {\"input\": \"What were the R&D expenditures and revenue for September 2022?\"}\n",
      "=== Function Output ===\n",
      "The Research and Development expenditures for September 2022 were $760 million, and the revenue for September 2022 was not explicitly provided in the context.\n"
     ]
    }
   ],
   "source": [
    "step_output = gpt4_agent.run_step(task.task_id, input='What about September?')"
   ]
  }
 ],
 "metadata": {
  "kernelspec": {
   "display_name": "base",
   "language": "python",
   "name": "python3"
  },
  "language_info": {
   "codemirror_mode": {
    "name": "ipython",
    "version": 3
   },
   "file_extension": ".py",
   "mimetype": "text/x-python",
   "name": "python",
   "nbconvert_exporter": "python",
   "pygments_lexer": "ipython3",
   "version": "3.11.7"
  }
 },
 "nbformat": 4,
 "nbformat_minor": 2
}
