{
 "cells": [
  {
   "attachments": {},
   "cell_type": "markdown",
   "metadata": {},
   "source": [
    "### What you will find here\n",
    "- Loading a single document\n",
    "- Using the primary prompt templates used in llama-index\n",
    "    + Load an LLM \n",
    "    + `chat` method that takes in a list of messages, to simulate a chat session. \n",
    "    + `Prompt` method that allows you do QA. \n",
    "- Quick check on limitation about this approach"
   ]
  },
  {
   "cell_type": "code",
   "execution_count": 12,
   "metadata": {},
   "outputs": [],
   "source": [
    "import os\n",
    "from llama_index.llms.openai import OpenAI\n",
    "from llama_index.core import Prompt\n",
    "from llama_index.core.llms import ChatMessage"
   ]
  },
  {
   "cell_type": "markdown",
   "metadata": {},
   "source": [
    "### Load Single Document"
   ]
  },
  {
   "cell_type": "code",
   "execution_count": 4,
   "metadata": {},
   "outputs": [],
   "source": [
    "file = os.path.join(\n",
    "    os.environ[\"DATA_DIR\"],\n",
    "    \"williams_family/biographies/Viviana Williams_bio.txt\"\n",
    ")\n",
    "with open(file, \"r\") as f:\n",
    "    context = f.read()"
   ]
  },
  {
   "cell_type": "markdown",
   "metadata": {},
   "source": [
    "### Load an LLM"
   ]
  },
  {
   "cell_type": "code",
   "execution_count": 5,
   "metadata": {},
   "outputs": [],
   "source": [
    "llm = OpenAI(model=\"gpt-3.5-turbo\", temperature=0)"
   ]
  },
  {
   "cell_type": "markdown",
   "metadata": {},
   "source": [
    "### Chat Example"
   ]
  },
  {
   "cell_type": "code",
   "execution_count": 6,
   "metadata": {},
   "outputs": [],
   "source": [
    "CHAT_SYSTEM_CONTENT = \"\"\"\n",
    "    Given the context information and not prior knowledge,\n",
    "    answer to the question, as briefly as possible.\n",
    "    Structure your response as a list of facts.\n",
    "\"\"\""
   ]
  },
  {
   "cell_type": "markdown",
   "metadata": {},
   "source": [
    "Asking questions about the family member that is covered in the loaded document."
   ]
  },
  {
   "cell_type": "code",
   "execution_count": 10,
   "metadata": {},
   "outputs": [
    {
     "name": "stdout",
     "output_type": "stream",
     "text": [
      "assistant: Viviana Williams was born on December 11, 1963.\n"
     ]
    }
   ],
   "source": [
    "chat_history = [\n",
    "    ChatMessage(role=\"system\", content=CHAT_SYSTEM_CONTENT),\n",
    "    ChatMessage(role=\"assistant\", content=context),\n",
    "    ChatMessage(role=\"user\", content=f\"When did Viviana Williams born?\"),\n",
    "]\n",
    "response = llm.chat(chat_history)\n",
    "print(response.message)"
   ]
  },
  {
   "cell_type": "markdown",
   "metadata": {},
   "source": [
    "Asking question about a a family member not covered in the document.\n",
    "We can quickly see the limitations of loading a single document!\n",
    "\n",
    "Also, what if there is information about the same family member across different documents?"
   ]
  },
  {
   "cell_type": "code",
   "execution_count": 11,
   "metadata": {},
   "outputs": [
    {
     "name": "stdout",
     "output_type": "stream",
     "text": [
      "assistant: Sora Williams was not mentioned in the provided context information.\n"
     ]
    }
   ],
   "source": [
    "chat_history = [\n",
    "    ChatMessage(role=\"system\", content=CHAT_SYSTEM_CONTENT),\n",
    "    ChatMessage(role=\"assistant\", content=context),\n",
    "    ChatMessage(role=\"user\", content=f\"When did Sora Williams born?\"),\n",
    "]\n",
    "\n",
    "response = llm.chat(chat_history)\n",
    "print(response.message)"
   ]
  },
  {
   "cell_type": "markdown",
   "metadata": {},
   "source": [
    "### Prompt"
   ]
  },
  {
   "cell_type": "code",
   "execution_count": 13,
   "metadata": {},
   "outputs": [],
   "source": [
    "text_qa_template = Prompt(\n",
    "    \"\"\"\n",
    "    Context information is below.\n",
    "    ---------------------\n",
    "    {context_str}\"\n",
    "    ---------------------\n",
    "    Given the context information and not prior knowledge,\n",
    "    answer the question: {query_str}, as briefly as possible.\n",
    "    Structure your response as a list of facts.\n",
    "    \"\"\"\n",
    ")\n",
    "\n",
    "refine_template = Prompt(\n",
    "    \"\"\"\n",
    "    We have the opportunity to refine the original answer\n",
    "    (only if needed) with some more context below.\n",
    "    ------------\n",
    "    {context_msg}\n",
    "    ------------\n",
    "    Given the new context, refine the original answer to better\n",
    "    answer the question: {query_str}, as briefly as possible.\n",
    "    Structure your response as a list of facts.\n",
    "    If the context isn't useful, output the original answer again.\n",
    "    Original Answer: {existing_answer}\n",
    "    \"\"\"\n",
    ")"
   ]
  },
  {
   "cell_type": "code",
   "execution_count": 14,
   "metadata": {},
   "outputs": [
    {
     "name": "stdout",
     "output_type": "stream",
     "text": [
      "- Viviana Williams was born on December 11, 1963.\n"
     ]
    }
   ],
   "source": [
    "question = f\"When was Viviana Williams born?\"\n",
    "prompt = text_qa_template.format(context_str=context, query_str=question)\n",
    "response = llm.complete(prompt)\n",
    "print(response.text)"
   ]
  },
  {
   "cell_type": "code",
   "execution_count": 15,
   "metadata": {},
   "outputs": [
    {
     "name": "stdout",
     "output_type": "stream",
     "text": [
      "Refined Answer:\n",
      "- Viviana Williams was born on December 11, 1963 to Immanuel Williams and Tessa Johnson.\n",
      "- Viviana married Lalit Wilson and they had a son named David in 1988.\n",
      "- Viviana passed away unexpectedly in 2010, leaving behind her husband Lalit and son David.\n"
     ]
    }
   ],
   "source": [
    "question = \"Give more information. For example, tell me the name of their parents and children.\"\n",
    "prompt = refine_template.format(context_msg=context, query_str=question, existing_answer=response)\n",
    "refined_response = llm.complete(prompt)\n",
    "print(refined_response.text)"
   ]
  }
 ],
 "metadata": {
  "kernelspec": {
   "display_name": "venv",
   "language": "python",
   "name": "python3"
  },
  "language_info": {
   "codemirror_mode": {
    "name": "ipython",
    "version": 3
   },
   "file_extension": ".py",
   "mimetype": "text/x-python",
   "name": "python",
   "nbconvert_exporter": "python",
   "pygments_lexer": "ipython3",
   "version": "3.11.7"
  },
  "orig_nbformat": 4
 },
 "nbformat": 4,
 "nbformat_minor": 2
}
