{
 "cells": [
  {
   "cell_type": "markdown",
   "metadata": {},
   "source": [
    "Adaptation of:\n",
    "https://docs.llamaindex.ai/en/stable/getting_started/starter_example_local/"
   ]
  },
  {
   "cell_type": "code",
   "execution_count": null,
   "metadata": {},
   "outputs": [],
   "source": [
    "from llama_index.core import VectorStoreIndex, SimpleDirectoryReader\n",
    "from llama_index.llms.openai import OpenAI\n",
    "import os"
   ]
  },
  {
   "cell_type": "code",
   "execution_count": null,
   "metadata": {},
   "outputs": [],
   "source": [
    "# 1\n",
    "documents = SimpleDirectoryReader(os.path.join(os.environ[\"DATA_DIR\"], \"paul_small\")).load_data()\n",
    "\n",
    "# 2\n",
    "llm = OpenAI(temperature=0.1, model=\"gpt-4\")\n",
    "\n",
    "# 3\n",
    "index = VectorStoreIndex.from_documents(documents, llm=llm)\n",
    "\n",
    "#4\n",
    "query_engine = index.as_query_engine()\n",
    "\n",
    "#5\n",
    "response = query_engine.query(\"What programming language he used?\")"
   ]
  },
  {
   "cell_type": "code",
   "execution_count": 8,
   "metadata": {},
   "outputs": [
    {
     "name": "stdout",
     "output_type": "stream",
     "text": [
      "He used an early version of Fortran.\n"
     ]
    }
   ],
   "source": [
    "print(response)"
   ]
  }
 ],
 "metadata": {
  "kernelspec": {
   "display_name": "base",
   "language": "python",
   "name": "python3"
  },
  "language_info": {
   "codemirror_mode": {
    "name": "ipython",
    "version": 3
   },
   "file_extension": ".py",
   "mimetype": "text/x-python",
   "name": "python",
   "nbconvert_exporter": "python",
   "pygments_lexer": "ipython3",
   "version": "3.11.7"
  }
 },
 "nbformat": 4,
 "nbformat_minor": 2
}
